{
 "cells": [
  {
   "cell_type": "markdown",
   "metadata": {},
   "source": [
    "## Setup"
   ]
  },
  {
   "cell_type": "code",
   "execution_count": 25,
   "metadata": {},
   "outputs": [],
   "source": [
    "import warnings\n",
    "warnings.filterwarnings(\"ignore\")\n",
    "\n",
    "import os\n",
    "import datetime\n",
    "import numpy as np\n",
    "import pandas as pd\n",
    "pd.set_option('display.max_columns', None)\n",
    "\n",
    "import preprocessing as preprocess\n",
    "import grouping as group\n",
    "import spliting as split\n",
    "\n",
    "import seaborn as sns\n",
    "import matplotlib.pyplot as plt\n",
    "from matplotlib import rc\n",
    "from matplotlib import font_manager\n",
    "plt.rcParams['axes.unicode_minus'] = False\n",
    "# plt.figure(figsize=(10, 5))\n",
    "\n",
    "import lightgbm as lgb\n",
    "from sklearn.pipeline import Pipeline\n",
    "from sklearn.preprocessing import StandardScaler\n",
    "\n",
    "from sklearn import metrics\n",
    "\n",
    "# font_path = 'C:\\\\Windows\\\\Fonts\\\\NanumBarunGothicUltraLight.ttf' #한글 폰트 경로 \n",
    "font_path = 'C:\\\\Windows\\\\Fonts\\\\malgun.ttf' #한글 폰트 경로 \n",
    "\n",
    "font_name = font_manager.FontProperties(fname=font_path).get_name()\n",
    "rc('font', family=font_name)"
   ]
  },
  {
   "cell_type": "code",
   "execution_count": 26,
   "metadata": {},
   "outputs": [],
   "source": [
    "#MAPE definition\n",
    "def mean_absolute_percentage_error(y_true, y_pred): \n",
    "    return np.mean(np.abs((y_true - y_pred) / y_true)) * 100"
   ]
  },
  {
   "cell_type": "markdown",
   "metadata": {},
   "source": [
    "## Data Load and Preprocessing\n",
    "\n",
    "`preprocessing.py`와 `grouping.py`에 전처리 코드를 넣어 원본데이터가 한번에 전처리되어 출력되도록 했습니다. 주요 전처리 내용은 다음과 같습니다. <br><br>\n",
    "\n",
    "**1. 종속변수(취급액) 가공**\n",
    "\n",
    "예측의 대상인 취급액은 판매단가에 판매량을 곱한 값으로 상품마다 scale의 차이가 큽니다. 따라서 취급액을 판매단가로 나눈 판매량이라는 변수를 새로 만들어 이를 예측하는 것이 유리합니다. 그리고 판매량의 분포가 양의 왜도를 가짐을 확인하고 이를 정규화하기 위해 로그 변환을 해주어 `log_sales_cnt`라는 변수를 생성했습니다.\n",
    "\n",
    "**2. 파생변수 생성**\n",
    "\n",
    "제공된 데이터의 변수는 8개입니다. 좋은 성능의 모델을 만들기 위해서는 유의미한 변수의 도출이 필수적입니다. EDA를 통해 변수의 특성을 파악하고 FE를 진행했습니다. 방송일시 변수를 연, 월, 일, 시, 분, 요일 등으로 나누고 공휴일 변수를 추가했습니다. 이외에도 다양한 변수를 가공해 `order_grp`나 `unit_price_group`등의 변수를 생성했습니다.\n",
    "\n",
    "**3. 외부변수 채택**\n",
    "\n",
    "주어진 변수 이외에도 판매량에 영향을 미칠 수 있는 외부변수를 채택했습니다. [기상자료개방포털](https://data.kma.go.kr/cmmn/main.do)에서 시각별 기온, 강수량, 습도 등의 기상정보를 가져왔고 [통계청](http://kostat.go.kr/portal/korea/index.action)에서 소비자 물가지수와 소비자 동향지수 데이터를 가져왔습니다. 이외에도 검색어 데이터, 뉴스 데이터도 고려했으나 양질의 데이터 획득의 어려움과 비상관성을 이유로 채택하지 않았습니다."
   ]
  },
  {
   "cell_type": "code",
   "execution_count": 27,
   "metadata": {},
   "outputs": [
    {
     "name": "stdout",
     "output_type": "stream",
     "text": [
      "Train : file already exist!\n",
      "Test : file already exist!\n"
     ]
    }
   ],
   "source": [
    "\"\"\"\"Directory\n",
    "bigcon \n",
    "  |- data\n",
    "       |- 01_제공데이터\n",
    "       |- 02_평가데이터\n",
    "  |- source\n",
    "\"\"\"\n",
    "cur_dir = os.getcwd()\n",
    "data_dir = os.path.join(cur_dir, 'data')\n",
    "source_dir = os.path.join(cur_dir, 'source')\n",
    "data_train_dir = os.path.join(data_dir, '01_제공데이터')\n",
    "data_test_dir = os.path.join(data_dir, '02_평가데이터')\n",
    "\n",
    "\n",
    "\"\"\" Parameters\n",
    "\"\"\"\n",
    "headline = '2020 빅콘테스트 데이터분석분야-챔피언리그'\n",
    "train_target = '2019년 실적데이터'\n",
    "test_target = '2020년 6월 판매실적예측데이터(평가데이터)'\n",
    "rate_target = '시청률 데이터'\n",
    "\n",
    "\n",
    "\"\"\" Load Data\n",
    "\"\"\"\n",
    "dfs = preprocess.ProcessSale(\n",
    "    data_dir = data_dir,\n",
    "    source_dir = source_dir,\n",
    "    data_train_dir = data_train_dir,\n",
    "    data_test_dir = data_test_dir,\n",
    "    headline = headline,\n",
    "    train_target = train_target,\n",
    "    rate_target = rate_target,\n",
    "    test_target = test_target,\n",
    ")\n",
    "\n",
    "df_train = dfs.train_preprocess()\n",
    "df_test = dfs.test_preprocess()\n",
    "df_rate = dfs.rate_preprocess()\n",
    "\n",
    "Grouping = group.Grouping(df_train, df_test)\n",
    "df_train = Grouping.make_train()\n",
    "df_test = Grouping.make_test()"
   ]
  },
  {
   "cell_type": "code",
   "execution_count": 28,
   "metadata": {},
   "outputs": [
    {
     "name": "stdout",
     "output_type": "stream",
     "text": [
      "(35379, 32)\n",
      "(2716, 32)\n"
     ]
    }
   ],
   "source": [
    "print(df_train.shape) #제공데이터\n",
    "print(df_test.shape)  #평가데이터"
   ]
  },
  {
   "cell_type": "markdown",
   "metadata": {},
   "source": [
    "최종적으로, 전처리 된 컬럼은 다음과 같습니다.\n",
    "\n",
    "#### 기존변수\n",
    "  * **datetime** - 방송일시입니다.\n",
    "  * **exposure(min)** - 상품이 방송에 노출된 시간입니다.\n",
    "  * **mother_cd** - 상품의 마더코드입니다.\n",
    "  * **product_cd** - 상품의 상품코드입니다.\n",
    "  * **product_name** - 상품명입니다.\n",
    "  * **product_grp** - 상품군입니다.\n",
    "  * **unit_price** - 상품의 개당 판매단가입니다. \n",
    "  * **sell_price** - 상품의 총 판매액, 즉 취급액입니다.\n",
    " \n",
    "#### 파생변수\n",
    "  * **sales_cnt** -  판매량입니다. 상품의 취급액을 판매단가로 나누어 계산합니다.\n",
    "  * **log_sales_cnt** -  판매량에 로그를 취한 값입니다. 종속변수의 분포를 정규화하기 위함입니다.\n",
    "  * **group** - 판매량과 판매단가의 특성을 고려해 설정한 상품의 그룹입니다. 추후 해당 그룹별로 모델링을 진행합니다.\n",
    "  * **unit_price_group** - 각 그룹별 판매단가의 정도입니다. 각 그룹 기준 33% 미만은 chaep, 33%이상 66%미만은 medium, 나머지는 expensive입니다.\n",
    "  \n",
    "  * **year** - 방송일시에서 파생된 변수입니다. 방송된 연도입니다. \n",
    "  * **month** - 방송일시에서 파생된 변수입니다. 방송된 월입니다\n",
    "  * **day** - 방송일시에서 파생된 변수입니다. 방송된 일자입니다\n",
    "  * **hour** - 방송일시에서 파생된 변수입니다. 방송된 시각입니다\n",
    "  * **minute** - 방송일시에서 파생된 변수입니다. 방송된 분입니다\n",
    "  * **weekday** - 방송일시에서 파생된 변수입니다. 방송된 요일입니다\n",
    "  * **holiday** - 공휴일입니다. 2019년 및 2020년 법정공휴일과 주말은 1, 나머지는 0입니다.\n",
    "  * **month_order** - 월초, 월중, 월말을 나타내는 변수입니다. \n",
    "  * **order_grp** - 같은 상품이 연속적으로 방송되었을 경우의 순서정보입니다. 방송일시와 마더코드를 기준으로 생성했습니다. 시작, 중간, 마지막으로 이루어져있습니다.\n",
    "  \n",
    "#### 외부변수\n",
    "  * **temp** - 방송된 시각의 기온(°C)입니다. \n",
    "  * **rainfall** - 방송된 시각의 강수량(mm)입니다. \n",
    "  * **wind_speed** - 방송된 시각의 풍속(m/s)입니다.\n",
    "  * **wind_direction** - 방송된 시각의 풍향(16방위)입니다.\n",
    "  * **humidity** - 방송된 시각의 습도(%)입니다.\n",
    "  * **pressure** - 방송된 시각의 증기압(hPa)입니다.\n",
    "  * **spot_pressure** - 방송된 시각의 현지기압(hPa)입니다..\n",
    "  * **sea_level_pressure** - 방송된 시각의 해면기압(hPa)입니다.\n",
    "  * **snowfall** - 방송된 시각의 적설량(cm)입니다.\n",
    "  \n",
    "  * **cpi** - 방송된 월의 소비자 물가지수입니다.\n",
    "  * **csi** - 방송된 월의 소비자 동향지수입니다.\n",
    "  \n",
    "  \n",
    "#### 외부변수 출처\n",
    "기상자료개방포털 : [https://data.kma.go.kr/cmmn/main.do](https://data.kma.go.kr/cmmn/main.do)<br>\n",
    "통계청 : [http://kostat.go.kr/portal/korea/index.action](http://kostat.go.kr/portal/korea/index.action)"
   ]
  },
  {
   "cell_type": "code",
   "execution_count": 29,
   "metadata": {},
   "outputs": [
    {
     "data": {
      "text/html": [
       "<div>\n",
       "<style scoped>\n",
       "    .dataframe tbody tr th:only-of-type {\n",
       "        vertical-align: middle;\n",
       "    }\n",
       "\n",
       "    .dataframe tbody tr th {\n",
       "        vertical-align: top;\n",
       "    }\n",
       "\n",
       "    .dataframe thead th {\n",
       "        text-align: right;\n",
       "    }\n",
       "</style>\n",
       "<table border=\"1\" class=\"dataframe\">\n",
       "  <thead>\n",
       "    <tr style=\"text-align: right;\">\n",
       "      <th></th>\n",
       "      <th>datetime</th>\n",
       "      <th>year</th>\n",
       "      <th>month</th>\n",
       "      <th>day</th>\n",
       "      <th>hour</th>\n",
       "      <th>minute</th>\n",
       "      <th>weekday</th>\n",
       "      <th>holiday</th>\n",
       "      <th>month_order</th>\n",
       "      <th>order_grp</th>\n",
       "      <th>exposure(min)</th>\n",
       "      <th>mother_cd</th>\n",
       "      <th>product_cd</th>\n",
       "      <th>product_name</th>\n",
       "      <th>product_grp</th>\n",
       "      <th>temp</th>\n",
       "      <th>rainfall</th>\n",
       "      <th>wind_speed</th>\n",
       "      <th>wind_direction</th>\n",
       "      <th>humidity</th>\n",
       "      <th>pressure</th>\n",
       "      <th>spot_pressure</th>\n",
       "      <th>sea_level_pressure</th>\n",
       "      <th>snowfall</th>\n",
       "      <th>unit_price</th>\n",
       "      <th>sell_price</th>\n",
       "      <th>sales_cnt</th>\n",
       "      <th>group</th>\n",
       "      <th>unit_price_group</th>\n",
       "      <th>cpi</th>\n",
       "      <th>csi</th>\n",
       "      <th>log_sales_cnt</th>\n",
       "    </tr>\n",
       "  </thead>\n",
       "  <tbody>\n",
       "    <tr>\n",
       "      <td>0</td>\n",
       "      <td>2019-01-01 06:00:00</td>\n",
       "      <td>2019</td>\n",
       "      <td>1</td>\n",
       "      <td>1</td>\n",
       "      <td>6</td>\n",
       "      <td>0</td>\n",
       "      <td>Tuesday</td>\n",
       "      <td>1</td>\n",
       "      <td>초</td>\n",
       "      <td>시작</td>\n",
       "      <td>20.0</td>\n",
       "      <td>100346</td>\n",
       "      <td>201072</td>\n",
       "      <td>테이트 남성 셀린니트3종</td>\n",
       "      <td>의류</td>\n",
       "      <td>-7.9</td>\n",
       "      <td>0.0</td>\n",
       "      <td>1.3</td>\n",
       "      <td>290.0</td>\n",
       "      <td>60.0</td>\n",
       "      <td>2.0</td>\n",
       "      <td>1023.6</td>\n",
       "      <td>1034.9</td>\n",
       "      <td>0.0</td>\n",
       "      <td>39900.0</td>\n",
       "      <td>2099000.0</td>\n",
       "      <td>52.606516</td>\n",
       "      <td>group4</td>\n",
       "      <td>cheap</td>\n",
       "      <td>100.8</td>\n",
       "      <td>97.5</td>\n",
       "      <td>3.962840</td>\n",
       "    </tr>\n",
       "    <tr>\n",
       "      <td>1</td>\n",
       "      <td>2019-01-01 06:00:00</td>\n",
       "      <td>2019</td>\n",
       "      <td>1</td>\n",
       "      <td>1</td>\n",
       "      <td>6</td>\n",
       "      <td>0</td>\n",
       "      <td>Tuesday</td>\n",
       "      <td>1</td>\n",
       "      <td>초</td>\n",
       "      <td>시작</td>\n",
       "      <td>20.0</td>\n",
       "      <td>100346</td>\n",
       "      <td>201079</td>\n",
       "      <td>테이트 여성 셀린니트3종</td>\n",
       "      <td>의류</td>\n",
       "      <td>-7.9</td>\n",
       "      <td>0.0</td>\n",
       "      <td>1.3</td>\n",
       "      <td>290.0</td>\n",
       "      <td>60.0</td>\n",
       "      <td>2.0</td>\n",
       "      <td>1023.6</td>\n",
       "      <td>1034.9</td>\n",
       "      <td>0.0</td>\n",
       "      <td>39900.0</td>\n",
       "      <td>4371000.0</td>\n",
       "      <td>109.548872</td>\n",
       "      <td>group4</td>\n",
       "      <td>cheap</td>\n",
       "      <td>100.8</td>\n",
       "      <td>97.5</td>\n",
       "      <td>4.696371</td>\n",
       "    </tr>\n",
       "    <tr>\n",
       "      <td>2</td>\n",
       "      <td>2019-01-01 06:20:00</td>\n",
       "      <td>2019</td>\n",
       "      <td>1</td>\n",
       "      <td>1</td>\n",
       "      <td>6</td>\n",
       "      <td>20</td>\n",
       "      <td>Tuesday</td>\n",
       "      <td>1</td>\n",
       "      <td>초</td>\n",
       "      <td>중간</td>\n",
       "      <td>20.0</td>\n",
       "      <td>100346</td>\n",
       "      <td>201072</td>\n",
       "      <td>테이트 남성 셀린니트3종</td>\n",
       "      <td>의류</td>\n",
       "      <td>-7.9</td>\n",
       "      <td>0.0</td>\n",
       "      <td>1.3</td>\n",
       "      <td>290.0</td>\n",
       "      <td>60.0</td>\n",
       "      <td>2.0</td>\n",
       "      <td>1023.6</td>\n",
       "      <td>1034.9</td>\n",
       "      <td>0.0</td>\n",
       "      <td>39900.0</td>\n",
       "      <td>3262000.0</td>\n",
       "      <td>81.754386</td>\n",
       "      <td>group4</td>\n",
       "      <td>cheap</td>\n",
       "      <td>100.8</td>\n",
       "      <td>97.5</td>\n",
       "      <td>4.403719</td>\n",
       "    </tr>\n",
       "    <tr>\n",
       "      <td>3</td>\n",
       "      <td>2019-01-01 06:20:00</td>\n",
       "      <td>2019</td>\n",
       "      <td>1</td>\n",
       "      <td>1</td>\n",
       "      <td>6</td>\n",
       "      <td>20</td>\n",
       "      <td>Tuesday</td>\n",
       "      <td>1</td>\n",
       "      <td>초</td>\n",
       "      <td>중간</td>\n",
       "      <td>20.0</td>\n",
       "      <td>100346</td>\n",
       "      <td>201079</td>\n",
       "      <td>테이트 여성 셀린니트3종</td>\n",
       "      <td>의류</td>\n",
       "      <td>-7.9</td>\n",
       "      <td>0.0</td>\n",
       "      <td>1.3</td>\n",
       "      <td>290.0</td>\n",
       "      <td>60.0</td>\n",
       "      <td>2.0</td>\n",
       "      <td>1023.6</td>\n",
       "      <td>1034.9</td>\n",
       "      <td>0.0</td>\n",
       "      <td>39900.0</td>\n",
       "      <td>6955000.0</td>\n",
       "      <td>174.310777</td>\n",
       "      <td>group4</td>\n",
       "      <td>cheap</td>\n",
       "      <td>100.8</td>\n",
       "      <td>97.5</td>\n",
       "      <td>5.160840</td>\n",
       "    </tr>\n",
       "    <tr>\n",
       "      <td>4</td>\n",
       "      <td>2019-01-01 06:40:00</td>\n",
       "      <td>2019</td>\n",
       "      <td>1</td>\n",
       "      <td>1</td>\n",
       "      <td>6</td>\n",
       "      <td>40</td>\n",
       "      <td>Tuesday</td>\n",
       "      <td>1</td>\n",
       "      <td>초</td>\n",
       "      <td>마지막</td>\n",
       "      <td>20.0</td>\n",
       "      <td>100346</td>\n",
       "      <td>201072</td>\n",
       "      <td>테이트 남성 셀린니트3종</td>\n",
       "      <td>의류</td>\n",
       "      <td>-7.9</td>\n",
       "      <td>0.0</td>\n",
       "      <td>1.3</td>\n",
       "      <td>290.0</td>\n",
       "      <td>60.0</td>\n",
       "      <td>2.0</td>\n",
       "      <td>1023.6</td>\n",
       "      <td>1034.9</td>\n",
       "      <td>0.0</td>\n",
       "      <td>39900.0</td>\n",
       "      <td>6672000.0</td>\n",
       "      <td>167.218045</td>\n",
       "      <td>group4</td>\n",
       "      <td>cheap</td>\n",
       "      <td>100.8</td>\n",
       "      <td>97.5</td>\n",
       "      <td>5.119299</td>\n",
       "    </tr>\n",
       "  </tbody>\n",
       "</table>\n",
       "</div>"
      ],
      "text/plain": [
       "             datetime  year  month  day  hour  minute  weekday  holiday  \\\n",
       "0 2019-01-01 06:00:00  2019      1    1     6       0  Tuesday        1   \n",
       "1 2019-01-01 06:00:00  2019      1    1     6       0  Tuesday        1   \n",
       "2 2019-01-01 06:20:00  2019      1    1     6      20  Tuesday        1   \n",
       "3 2019-01-01 06:20:00  2019      1    1     6      20  Tuesday        1   \n",
       "4 2019-01-01 06:40:00  2019      1    1     6      40  Tuesday        1   \n",
       "\n",
       "  month_order order_grp  exposure(min)  mother_cd  product_cd   product_name  \\\n",
       "0           초        시작           20.0     100346      201072  테이트 남성 셀린니트3종   \n",
       "1           초        시작           20.0     100346      201079  테이트 여성 셀린니트3종   \n",
       "2           초        중간           20.0     100346      201072  테이트 남성 셀린니트3종   \n",
       "3           초        중간           20.0     100346      201079  테이트 여성 셀린니트3종   \n",
       "4           초       마지막           20.0     100346      201072  테이트 남성 셀린니트3종   \n",
       "\n",
       "  product_grp  temp  rainfall  wind_speed  wind_direction  humidity  pressure  \\\n",
       "0          의류  -7.9       0.0         1.3           290.0      60.0       2.0   \n",
       "1          의류  -7.9       0.0         1.3           290.0      60.0       2.0   \n",
       "2          의류  -7.9       0.0         1.3           290.0      60.0       2.0   \n",
       "3          의류  -7.9       0.0         1.3           290.0      60.0       2.0   \n",
       "4          의류  -7.9       0.0         1.3           290.0      60.0       2.0   \n",
       "\n",
       "   spot_pressure  sea_level_pressure  snowfall  unit_price  sell_price  \\\n",
       "0         1023.6              1034.9       0.0     39900.0   2099000.0   \n",
       "1         1023.6              1034.9       0.0     39900.0   4371000.0   \n",
       "2         1023.6              1034.9       0.0     39900.0   3262000.0   \n",
       "3         1023.6              1034.9       0.0     39900.0   6955000.0   \n",
       "4         1023.6              1034.9       0.0     39900.0   6672000.0   \n",
       "\n",
       "    sales_cnt   group unit_price_group    cpi   csi  log_sales_cnt  \n",
       "0   52.606516  group4            cheap  100.8  97.5       3.962840  \n",
       "1  109.548872  group4            cheap  100.8  97.5       4.696371  \n",
       "2   81.754386  group4            cheap  100.8  97.5       4.403719  \n",
       "3  174.310777  group4            cheap  100.8  97.5       5.160840  \n",
       "4  167.218045  group4            cheap  100.8  97.5       5.119299  "
      ]
     },
     "execution_count": 29,
     "metadata": {},
     "output_type": "execute_result"
    }
   ],
   "source": [
    "df_train.head()"
   ]
  },
  {
   "cell_type": "markdown",
   "metadata": {},
   "source": [
    "## EDA\n",
    "\n",
    "변수별 EDA 자료와 코드는 첨부된 ipynb파일에 있으며, 주요 내용은 결과보고서에 시각화 자료를 첨부합니다.\n",
    "* EDA_weather.ipynb\n",
    "* EDA_basic.ipynb\n",
    "* EDA_other.ipynb"
   ]
  },
  {
   "cell_type": "markdown",
   "metadata": {},
   "source": [
    "## Variable Selection and Grouping\n",
    "변수선택과 Grouping, 범주형변수 더미화는 `spliting.py`로 처리했습니다. 해당 클래스의 `return_g`라는 함수는 전처리된 데이터프레임 `df_train`을 받아 정해진 변수에 대해 Grouping과 더미화를 하고 네 개의 데이터프레임을 출력합니다.\n",
    "\n",
    "#### Variable Selection\n",
    "EDA를 통해 선택된 유의미한 변수는 다음과 같습니다.\n",
    "\n",
    "`month`, `hour`, `minute`, `weekday`, `holiday`, `month_order`, `order_grp`, `exposure(min)`, `mother_cd`, `product_cd`, `product_grp`, `temp`, `rainfall`, `humidity`, `snowfall`, `wind_speed`, `unit_price`, `unit_price_group`, `cpi`, `csi`  \n",
    "\n",
    "학습에 사용될 종속변수는 `log_sales_cnt`입니다.\n",
    "\n",
    "#### Grouping\n",
    "그룹은 모델의 성능 상승을 위해 생성했습니다. 상품군 별 판매량과 판매단가의 분포를 확인하고 각 상품군 간 상관관계를 고려하여 그룹을 만들었습니다. 해당 그룹별로 약간의 변수 조정이 있을 수 있으며 추후 다른 모델이 각각 적용될 수 있습니다.\n",
    " * Group 1 : 가구 가전<br>\n",
    " * Group 2 : 농수축, 이미용<br>\n",
    " * Group 3 : 생활용품, 주방, 잡화<br>\n",
    " * Group 4 : 건강기능, 속옷, 의류, 침구<br><br>\n",
    " \n",
    "그룹 구성에 관련한 분포 시각화 및 상관관계 정보는 별도의 파일로 첨부합니다.\n",
    " * Grouping.ipynb(규형)"
   ]
  },
  {
   "cell_type": "code",
   "execution_count": 30,
   "metadata": {},
   "outputs": [],
   "source": [
    "Spliting = split.Spliting()\n",
    "g1, g2, g3, g4 = Spliting.return_g(df_train)"
   ]
  },
  {
   "cell_type": "code",
   "execution_count": 31,
   "metadata": {},
   "outputs": [
    {
     "name": "stdout",
     "output_type": "stream",
     "text": [
      "(7465, 30)\n",
      "(5189, 17)\n",
      "(13034, 17)\n",
      "(9691, 17)\n"
     ]
    }
   ],
   "source": [
    "print(g1.shape) #group1\n",
    "print(g2.shape) #group2\n",
    "print(g3.shape) #group3\n",
    "print(g4.shape) #group4"
   ]
  },
  {
   "cell_type": "markdown",
   "metadata": {},
   "source": [
    "## Train Test Split\n",
    "각 그룹별 모델링을 진행하기 위해 X와 y로 변수를 나눠주고, 각각을 Train Set과 Test Set으로 나눠줍니다."
   ]
  },
  {
   "cell_type": "code",
   "execution_count": 32,
   "metadata": {},
   "outputs": [],
   "source": [
    "X1, y1 = g1.drop('log_sales_cnt', axis=1), g1['log_sales_cnt']\n",
    "X2, y2 = g2.drop('log_sales_cnt', axis=1), g2['log_sales_cnt']\n",
    "X3, y3 = g3.drop('log_sales_cnt', axis=1), g3['log_sales_cnt']\n",
    "X4, y4 = g4.drop('log_sales_cnt', axis=1), g4['log_sales_cnt']\n",
    "X4_train, X4_test, y4_train, y4_test = train_test_split(X4, y4, test_size=0.3, random_state=42)"
   ]
  },
  {
   "cell_type": "code",
   "execution_count": 33,
   "metadata": {},
   "outputs": [],
   "source": [
    "from sklearn.model_selection import train_test_split\n",
    "X1_train, X1_test, y1_train, y1_test = train_test_split(X1, y1, test_size=0.3, random_state=42)\n",
    "X2_train, X2_test, y2_train, y2_test = train_test_split(X2, y2, test_size=0.3, random_state=42)\n",
    "X3_train, X3_test, y3_train, y3_test = train_test_split(X3, y3, test_size=0.3, random_state=42)\n",
    "X4_train, X4_test, y4_train, y4_test = train_test_split(X4, y4, test_size=0.3, random_state=42)"
   ]
  },
  {
   "cell_type": "code",
   "execution_count": 34,
   "metadata": {},
   "outputs": [
    {
     "name": "stdout",
     "output_type": "stream",
     "text": [
      "(5225, 29) (5225,) (2240, 29) (2240,)\n",
      "(3632, 16) (3632,) (1557, 16) (1557,)\n",
      "(9123, 16) (9123,) (3911, 16) (3911,)\n",
      "(6783, 16) (6783,) (2908, 16) (2908,)\n"
     ]
    }
   ],
   "source": [
    "print(X1_train.shape, y1_train.shape, X1_test.shape, y1_test.shape)\n",
    "print(X2_train.shape, y2_train.shape, X2_test.shape, y2_test.shape)\n",
    "print(X3_train.shape, y3_train.shape, X3_test.shape, y3_test.shape)\n",
    "print(X4_train.shape, y4_train.shape, X4_test.shape, y4_test.shape)"
   ]
  },
  {
   "cell_type": "markdown",
   "metadata": {},
   "source": [
    "## Modeling\n",
    "모델링은 각 그룹별로 여러 개의 머신러닝 및 딥러닝 기법을 시도하여 Best Score를 갖는 모델을 채택했습니다.<br><br>\n",
    "시도한 모델은 다음과 같습니다.\n",
    "\n",
    " * Linear Regression\n",
    " * Ridge/Lasso Regression\n",
    " * Support Vector Regression\n",
    " * Decesion Tree\n",
    " * RandomForest\n",
    " * XGBoost\n",
    " * LightGBM\n",
    " * CatBoost\n",
    " * LSTM/GRU\n",
    " \n",
    "<br>\n",
    "위의 모델을 모두 적합하여 Competition을 시도하고, Best Model에 대해서 Parameter Tuning을 진행합니다.모델  Parameter Tuning은 Scikit-learn의 `GridSearchCV`를 사용합니다.\n",
    "\n",
    "<br>\n",
    "\n",
    "**최종적으로 선택된 모델은 Group1은 CatBoost, 나머지 그룹은 LightGBM입니다.**"
   ]
  },
  {
   "cell_type": "markdown",
   "metadata": {},
   "source": [
    "### Group 1\n",
    "group1에서는 product_name을 기반으로 상품의 정보를 가진 범주형자료를 추가로 생성했습니다. (`spliting.py` 참조) "
   ]
  },
  {
   "cell_type": "code",
   "execution_count": 35,
   "metadata": {},
   "outputs": [],
   "source": [
    "import lightgbm as lgb\n",
    "from bayes_opt import BayesianOptimization\n",
    "from sklearn import metrics"
   ]
  },
  {
   "cell_type": "code",
   "execution_count": 36,
   "metadata": {},
   "outputs": [],
   "source": [
    "col = ['month','weekday','month_order','order_grp','product_grp','unit_price_group']"
   ]
  },
  {
   "cell_type": "code",
   "execution_count": 37,
   "metadata": {},
   "outputs": [],
   "source": [
    "for i in col : \n",
    "    X1_train[i] = X1_train[i].astype('category') \n",
    "    X1_test[i] = X1_test[i].astype('category')"
   ]
  },
  {
   "cell_type": "code",
   "execution_count": 38,
   "metadata": {},
   "outputs": [
    {
     "name": "stdout",
     "output_type": "stream",
     "text": [
      "<class 'pandas.core.frame.DataFrame'>\n",
      "Int64Index: 5225 entries, 13616 to 33582\n",
      "Data columns (total 29 columns):\n",
      "month               5225 non-null category\n",
      "hour                5225 non-null int64\n",
      "minute              5225 non-null int64\n",
      "weekday             5225 non-null category\n",
      "holiday             5225 non-null int64\n",
      "month_order         5225 non-null category\n",
      "order_grp           5225 non-null category\n",
      "exposure(min)       5225 non-null float64\n",
      "mother_cd           5225 non-null int64\n",
      "product_grp         5225 non-null category\n",
      "temp                5225 non-null float64\n",
      "humidity            5225 non-null float64\n",
      "unit_price          5225 non-null float64\n",
      "unit_price_group    5225 non-null category\n",
      "cpi                 5225 non-null float64\n",
      "csi                 5225 non-null float64\n",
      "installment         5225 non-null bool\n",
      "samsung             5225 non-null bool\n",
      "lg                  5225 non-null bool\n",
      "washer              5225 non-null bool\n",
      "refrigerator        5225 non-null bool\n",
      "laptop              5225 non-null bool\n",
      "air_fresher         5225 non-null bool\n",
      "dryer               5225 non-null bool\n",
      "cleaner             5225 non-null bool\n",
      "air_conditioner     5225 non-null bool\n",
      "bed                 5225 non-null bool\n",
      "sofa                5225 non-null bool\n",
      "drawer              5225 non-null bool\n",
      "dtypes: bool(13), category(6), float64(6), int64(4)\n",
      "memory usage: 547.1 KB\n"
     ]
    }
   ],
   "source": [
    "X1_train.info()"
   ]
  },
  {
   "cell_type": "code",
   "execution_count": 39,
   "metadata": {},
   "outputs": [],
   "source": [
    "def model1_mape(num_leaves, learning_rate, n_estimators, max_depth, min_child_samples,bagging_freq):\n",
    "    model1 = lgb.LGBMRegressor(objective = 'regression', \n",
    "                              boosting = 'gbdt',\n",
    "                              num_leaves = int(num_leaves), \n",
    "                              learning_rate = learning_rate,\n",
    "                              n_estimators = int(n_estimators), \n",
    "                              max_depth = int(max_depth),\n",
    "                              min_child_samples = int(min_child_samples),\n",
    "                              #feature_fraction = feature_fraction,\n",
    "                              #bagging_fraction = bagging_fraction,\n",
    "                              bagging_freq = int(bagging_freq)\n",
    "                              \n",
    "                              )\n",
    "    model1.fit(X1_train, y1_train)\n",
    "    y1_pred = model1.predict(X1_test)\n",
    "    mape = mean_absolute_percentage_error(np.exp(y1_test), np.exp(y1_pred))\n",
    "    return -mape\n",
    "\n",
    "pbounds1 = {'num_leaves': (150, 300), \n",
    "           'learning_rate': (0.01, 0.2),\n",
    "          'n_estimators': (400, 600),\n",
    "            'max_depth' : (1,50),\n",
    "            'min_child_samples' : (1,50),\n",
    "            #'feature_fraction' : (0.8, 0.9),\n",
    "           #'bagging_fraction' : (0.7, 0.8),\n",
    "           'bagging_freq': (3,8)\n",
    "           \n",
    "           }"
   ]
  },
  {
   "cell_type": "code",
   "execution_count": 40,
   "metadata": {},
   "outputs": [],
   "source": [
    "# bayesmodel1 = BayesianOptimization(f = model1_mape, pbounds = pbounds1, verbose = 2, random_state = 3)\n",
    "# bayesmodel1.maximize(init_points=2, n_iter = 100)"
   ]
  },
  {
   "cell_type": "code",
   "execution_count": 41,
   "metadata": {},
   "outputs": [
    {
     "name": "stdout",
     "output_type": "stream",
     "text": [
      "[LightGBM] [Warning] boosting is set=gbdt, boosting_type=gbdt will be ignored. Current value: boosting=gbdt\n"
     ]
    },
    {
     "data": {
      "text/plain": [
       "LGBMRegressor(boosting='gbdt', learning_rate=0.06284952600628144, max_depth=7,\n",
       "              min_child_samples=17, n_estimators=554, num_leaves=40,\n",
       "              objective='regression')"
      ]
     },
     "execution_count": 41,
     "metadata": {},
     "output_type": "execute_result"
    }
   ],
   "source": [
    "model1 = lgb.LGBMRegressor(objective = 'regression', \n",
    "                              boosting = 'gbdt',\n",
    "                              num_leaves = 40 ,\n",
    "                              learning_rate = 0.06284952600628144,\n",
    "                              n_estimators = 554, \n",
    "                              max_depth = 7,\n",
    "                              min_child_samples = 17,\n",
    "                              \n",
    "                              )\n",
    "model1.fit(X1_train, y1_train)"
   ]
  },
  {
   "cell_type": "code",
   "execution_count": 42,
   "metadata": {},
   "outputs": [
    {
     "name": "stdout",
     "output_type": "stream",
     "text": [
      "MSE : 125.8933942071314\n",
      "R squared : 0.8092833488977034\n",
      "48.304920032120016\n"
     ]
    }
   ],
   "source": [
    "y1_pred = model1.predict(X1_test)\n",
    "print (\"MSE :\", metrics.mean_squared_error(np.exp(y1_test), np.exp(y1_pred)))\n",
    "print(\"R squared :\", metrics.r2_score(np.exp(y1_test), np.exp(y1_pred)))\n",
    "print(mean_absolute_percentage_error(np.exp(y1_test), np.exp(y1_pred)))"
   ]
  },
  {
   "cell_type": "code",
   "execution_count": 43,
   "metadata": {},
   "outputs": [
    {
     "name": "stdout",
     "output_type": "stream",
     "text": [
      "MSE : 44.20680692051767\n",
      "R squared : 0.9323664332753994\n",
      "28.374577796416272\n"
     ]
    }
   ],
   "source": [
    "y1_train_pred = model1.predict(X1_train)\n",
    "print (\"MSE :\", metrics.mean_squared_error(np.exp(y1_train), np.exp(y1_train_pred)))\n",
    "print(\"R squared :\", metrics.r2_score(np.exp(y1_train), np.exp(y1_train_pred)))\n",
    "print(mean_absolute_percentage_error(np.exp(y1_train), np.exp(y1_train_pred)))"
   ]
  },
  {
   "cell_type": "markdown",
   "metadata": {},
   "source": [
    "### Group 2"
   ]
  },
  {
   "cell_type": "code",
   "execution_count": 44,
   "metadata": {},
   "outputs": [],
   "source": [
    "for i in col : \n",
    "    X2_train[i] = X2_train[i].astype('category')\n",
    "    X2_test[i] = X2_test[i].astype('category') "
   ]
  },
  {
   "cell_type": "code",
   "execution_count": 45,
   "metadata": {},
   "outputs": [],
   "source": [
    "def model2_mape(num_leaves, learning_rate, n_estimators, max_depth, min_child_samples,bagging_freq):\n",
    "    model2 = lgb.LGBMRegressor(objective = 'regression', \n",
    "                              boosting = 'gbdt',\n",
    "                              num_leaves = int(num_leaves), \n",
    "                              learning_rate = learning_rate,\n",
    "                              n_estimators = int(n_estimators), \n",
    "                              max_depth = int(max_depth),\n",
    "                              min_child_samples = int(min_child_samples),\n",
    "                              #feature_fraction = feature_fraction,\n",
    "                              #bagging_fraction = bagging_fraction,\n",
    "                              bagging_freq = int(bagging_freq)\n",
    "                              )\n",
    "    model2.fit(X2_train, y2_train)\n",
    "    y2_pred = model2.predict(X2_test)\n",
    "    mape = mean_absolute_percentage_error(np.exp(y2_test), np.exp(y2_pred))\n",
    "    return -mape\n",
    "\n",
    "pbounds2 = {'num_leaves': (150, 300), \n",
    "           'learning_rate': (0.01, 0.2),\n",
    "          'n_estimators': (400, 600),\n",
    "            'max_depth' : (1,50),\n",
    "            'min_child_samples' : (1,50),\n",
    "            #'feature_fraction' : (0.8, 0.9),\n",
    "           #'bagging_fraction' : (0.7, 0.8),\n",
    "           'bagging_freq': (3,8)\n",
    "           }"
   ]
  },
  {
   "cell_type": "code",
   "execution_count": 46,
   "metadata": {},
   "outputs": [],
   "source": [
    "# bayesmodel2 = BayesianOptimization(f = model2_mape, pbounds = pbounds2, verbose = 2, random_state = 3)\n",
    "# bayesmodel2.maximize(init_points=2, n_iter = 100)"
   ]
  },
  {
   "cell_type": "code",
   "execution_count": 47,
   "metadata": {},
   "outputs": [
    {
     "name": "stdout",
     "output_type": "stream",
     "text": [
      "[LightGBM] [Warning] boosting is set=gbdt, boosting_type=gbdt will be ignored. Current value: boosting=gbdt\n"
     ]
    },
    {
     "data": {
      "text/plain": [
       "LGBMRegressor(boosting='gbdt', learning_rate=0.10157676627300832, max_depth=19,\n",
       "              min_child_samples=1, n_estimators=1085, num_leaves=7,\n",
       "              objective='regression')"
      ]
     },
     "execution_count": 47,
     "metadata": {},
     "output_type": "execute_result"
    }
   ],
   "source": [
    "model2 = lgb.LGBMRegressor(objective = 'regression', \n",
    "                              boosting = 'gbdt',\n",
    "                              num_leaves = 7,\n",
    "                              learning_rate = 0.10157676627300832,\n",
    "                              n_estimators = 1085, \n",
    "                              max_depth = 19,\n",
    "                              min_child_samples = 1\n",
    "                              )\n",
    "model2.fit(X2_train, y2_train)"
   ]
  },
  {
   "cell_type": "code",
   "execution_count": 48,
   "metadata": {},
   "outputs": [
    {
     "name": "stdout",
     "output_type": "stream",
     "text": [
      "MSE : 79939.68000079635\n",
      "R squared : 0.7176691546719209\n",
      "26.045550434883708\n"
     ]
    }
   ],
   "source": [
    "y2_pred = model2.predict(X2_test)\n",
    "print (\"MSE :\", metrics.mean_squared_error(np.exp(y2_test), np.exp(y2_pred)))\n",
    "print(\"R squared :\", metrics.r2_score(np.exp(y2_test), np.exp(y2_pred)))\n",
    "print(mean_absolute_percentage_error(np.exp(y2_test), np.exp(y2_pred)))"
   ]
  },
  {
   "cell_type": "code",
   "execution_count": 49,
   "metadata": {},
   "outputs": [
    {
     "name": "stdout",
     "output_type": "stream",
     "text": [
      "MSE : 36742.57834591231\n",
      "R squared : 0.8723112486816207\n",
      "14.729054279895848\n"
     ]
    }
   ],
   "source": [
    "y2_train_pred = model2.predict(X2_train)\n",
    "print (\"MSE :\", metrics.mean_squared_error(np.exp(y2_train), np.exp(y2_train_pred)))\n",
    "print(\"R squared :\", metrics.r2_score(np.exp(y2_train), np.exp(y2_train_pred)))\n",
    "print(mean_absolute_percentage_error(np.exp(y2_train), np.exp(y2_train_pred)))"
   ]
  },
  {
   "cell_type": "markdown",
   "metadata": {},
   "source": [
    "### Group 3"
   ]
  },
  {
   "cell_type": "code",
   "execution_count": 50,
   "metadata": {},
   "outputs": [],
   "source": [
    "for i in col : \n",
    "    X3_train[i] = X3_train[i].astype('category')\n",
    "    X3_test[i] = X3_test[i].astype('category') "
   ]
  },
  {
   "cell_type": "code",
   "execution_count": 51,
   "metadata": {},
   "outputs": [],
   "source": [
    "def model3_mape(num_leaves, learning_rate, n_estimators, max_depth, min_child_samples):\n",
    "    model3 = lgb.LGBMRegressor(objective = 'regression', \n",
    "                              boosting = 'gbdt',\n",
    "                              num_leaves = int(num_leaves), \n",
    "                              learning_rate = learning_rate,\n",
    "                              n_estimators = int(n_estimators), \n",
    "                              max_depth = int(max_depth),\n",
    "                              min_child_samples = int(min_child_samples)\n",
    "                              )\n",
    "    model3.fit(X3_train, y3_train)\n",
    "    y3_pred = model3.predict(X3_test)\n",
    "    mape = mean_absolute_percentage_error(np.exp(y3_test), np.exp(y3_pred))\n",
    "    return -mape\n",
    "\n",
    "pbounds3 = {'num_leaves': (2, 60), \n",
    "           'learning_rate': (0.05, 0.15),\n",
    "          'n_estimators': (500, 1500),\n",
    "            'max_depth' : (1,50),\n",
    "            'min_child_samples' : (1,50) \n",
    "           }"
   ]
  },
  {
   "cell_type": "code",
   "execution_count": 52,
   "metadata": {},
   "outputs": [
    {
     "name": "stdout",
     "output_type": "stream",
     "text": [
      "[LightGBM] [Warning] boosting is set=gbdt, boosting_type=gbdt will be ignored. Current value: boosting=gbdt\n"
     ]
    },
    {
     "data": {
      "text/plain": [
       "LGBMRegressor(boosting='gbdt', learning_rate=0.14614985142123815, max_depth=10,\n",
       "              min_child_samples=4, n_estimators=1267, num_leaves=9,\n",
       "              objective='regression')"
      ]
     },
     "execution_count": 52,
     "metadata": {},
     "output_type": "execute_result"
    }
   ],
   "source": [
    "model3 = lgb.LGBMRegressor(objective = 'regression', \n",
    "                              boosting = 'gbdt',\n",
    "                              num_leaves = 9 ,\n",
    "                              learning_rate = 0.14614985142123815,\n",
    "                              n_estimators = 1267, \n",
    "                              max_depth = 10,\n",
    "                              min_child_samples = 4\n",
    "                              )\n",
    "model3.fit(X3_train, y3_train)"
   ]
  },
  {
   "cell_type": "code",
   "execution_count": 53,
   "metadata": {},
   "outputs": [
    {
     "name": "stdout",
     "output_type": "stream",
     "text": [
      "MSE : 8183.639094986715\n",
      "R squared : 0.8896062720426237\n",
      "37.223523321693044\n"
     ]
    }
   ],
   "source": [
    "y3_pred = model3.predict(X3_test)\n",
    "print (\"MSE :\", metrics.mean_squared_error(np.exp(y3_test), np.exp(y3_pred)))\n",
    "print(\"R squared :\", metrics.r2_score(np.exp(y3_test), np.exp(y3_pred)))\n",
    "print(mean_absolute_percentage_error(np.exp(y3_test), np.exp(y3_pred)))"
   ]
  },
  {
   "cell_type": "code",
   "execution_count": 54,
   "metadata": {},
   "outputs": [
    {
     "name": "stdout",
     "output_type": "stream",
     "text": [
      "MSE : 4041.169854406218\n",
      "R squared : 0.9482707908116171\n",
      "24.964848126494278\n"
     ]
    }
   ],
   "source": [
    "y3_train_pred = model3.predict(X3_train)\n",
    "print (\"MSE :\", metrics.mean_squared_error(np.exp(y3_train), np.exp(y3_train_pred)))\n",
    "print(\"R squared :\", metrics.r2_score(np.exp(y3_train), np.exp(y3_train_pred)))\n",
    "print(mean_absolute_percentage_error(np.exp(y3_train), np.exp(y3_train_pred)))"
   ]
  },
  {
   "cell_type": "markdown",
   "metadata": {},
   "source": [
    "### Group 4"
   ]
  },
  {
   "cell_type": "code",
   "execution_count": 152,
   "metadata": {},
   "outputs": [],
   "source": [
    "df4_train=df_train[df_train['product_grp'].isin(['건강기능', '속옷', '의류'])]"
   ]
  },
  {
   "cell_type": "code",
   "execution_count": 154,
   "metadata": {},
   "outputs": [
    {
     "data": {
      "text/plain": [
       "<matplotlib.axes._subplots.AxesSubplot at 0x21b64f2c488>"
      ]
     },
     "execution_count": 154,
     "metadata": {},
     "output_type": "execute_result"
    },
    {
     "data": {
      "image/png": "[encoded data removed]",
      "text/plain": [
       "<Figure size 432x288 with 1 Axes>"
      ]
     },
     "metadata": {
      "needs_background": "light"
     },
     "output_type": "display_data"
    }
   ],
   "source": [
    "df4_train.pivot_table(index='weekday',values='sales_cnt').plot(kind='barh')"
   ]
  },
  {
   "cell_type": "code",
   "execution_count": 155,
   "metadata": {},
   "outputs": [],
   "source": [
    "df4_train.drop(['datetime','year','product_cd','product_name','spot_pressure','sea_level_pressure','snowfall','group','sales_cnt','sell_price'],axis=1,inplace=True)"
   ]
  },
  {
   "cell_type": "code",
   "execution_count": 156,
   "metadata": {},
   "outputs": [],
   "source": [
    "X4, y4 = df4_train.drop('log_sales_cnt', axis=1), df4_train['log_sales_cnt']\n",
    "X4_train, X4_test, y4_train, y4_test = train_test_split(X4, y4, test_size=0.3, random_state=42)"
   ]
  },
  {
   "cell_type": "code",
   "execution_count": 157,
   "metadata": {},
   "outputs": [],
   "source": [
    "col = ['month','weekday','month_order','order_grp','product_grp','unit_price_group','holiday']"
   ]
  },
  {
   "cell_type": "code",
   "execution_count": 158,
   "metadata": {},
   "outputs": [],
   "source": [
    "for i in col : \n",
    "    X4_train[i] = X4_train[i].astype('category')\n",
    "    X4_test[i] = X4_test[i].astype('category') "
   ]
  },
  {
   "cell_type": "code",
   "execution_count": 159,
   "metadata": {},
   "outputs": [
    {
     "data": {
      "text/html": [
       "<div>\n",
       "<style scoped>\n",
       "    .dataframe tbody tr th:only-of-type {\n",
       "        vertical-align: middle;\n",
       "    }\n",
       "\n",
       "    .dataframe tbody tr th {\n",
       "        vertical-align: top;\n",
       "    }\n",
       "\n",
       "    .dataframe thead th {\n",
       "        text-align: right;\n",
       "    }\n",
       "</style>\n",
       "<table border=\"1\" class=\"dataframe\">\n",
       "  <thead>\n",
       "    <tr style=\"text-align: right;\">\n",
       "      <th></th>\n",
       "      <th>month</th>\n",
       "      <th>day</th>\n",
       "      <th>hour</th>\n",
       "      <th>minute</th>\n",
       "      <th>weekday</th>\n",
       "      <th>holiday</th>\n",
       "      <th>month_order</th>\n",
       "      <th>order_grp</th>\n",
       "      <th>exposure(min)</th>\n",
       "      <th>mother_cd</th>\n",
       "      <th>product_grp</th>\n",
       "      <th>temp</th>\n",
       "      <th>rainfall</th>\n",
       "      <th>wind_speed</th>\n",
       "      <th>wind_direction</th>\n",
       "      <th>humidity</th>\n",
       "      <th>pressure</th>\n",
       "      <th>unit_price</th>\n",
       "      <th>unit_price_group</th>\n",
       "      <th>cpi</th>\n",
       "      <th>csi</th>\n",
       "    </tr>\n",
       "  </thead>\n",
       "  <tbody>\n",
       "    <tr>\n",
       "      <td>3629</td>\n",
       "      <td>2</td>\n",
       "      <td>10</td>\n",
       "      <td>7</td>\n",
       "      <td>0</td>\n",
       "      <td>Sunday</td>\n",
       "      <td>1</td>\n",
       "      <td>중</td>\n",
       "      <td>시작</td>\n",
       "      <td>20.0</td>\n",
       "      <td>100369</td>\n",
       "      <td>의류</td>\n",
       "      <td>-9.0</td>\n",
       "      <td>0.0</td>\n",
       "      <td>1.1</td>\n",
       "      <td>50.0</td>\n",
       "      <td>39.0</td>\n",
       "      <td>1.2</td>\n",
       "      <td>59000.0</td>\n",
       "      <td>cheap</td>\n",
       "      <td>100.5</td>\n",
       "      <td>99.5</td>\n",
       "    </tr>\n",
       "    <tr>\n",
       "      <td>7733</td>\n",
       "      <td>3</td>\n",
       "      <td>24</td>\n",
       "      <td>8</td>\n",
       "      <td>20</td>\n",
       "      <td>Sunday</td>\n",
       "      <td>1</td>\n",
       "      <td>말</td>\n",
       "      <td>중간</td>\n",
       "      <td>20.0</td>\n",
       "      <td>100452</td>\n",
       "      <td>의류</td>\n",
       "      <td>0.3</td>\n",
       "      <td>0.0</td>\n",
       "      <td>1.4</td>\n",
       "      <td>290.0</td>\n",
       "      <td>48.0</td>\n",
       "      <td>3.0</td>\n",
       "      <td>49000.0</td>\n",
       "      <td>cheap</td>\n",
       "      <td>100.4</td>\n",
       "      <td>99.8</td>\n",
       "    </tr>\n",
       "    <tr>\n",
       "      <td>21605</td>\n",
       "      <td>8</td>\n",
       "      <td>8</td>\n",
       "      <td>8</td>\n",
       "      <td>20</td>\n",
       "      <td>Thursday</td>\n",
       "      <td>0</td>\n",
       "      <td>중</td>\n",
       "      <td>중간</td>\n",
       "      <td>20.0</td>\n",
       "      <td>100049</td>\n",
       "      <td>의류</td>\n",
       "      <td>26.4</td>\n",
       "      <td>0.0</td>\n",
       "      <td>0.6</td>\n",
       "      <td>20.0</td>\n",
       "      <td>83.0</td>\n",
       "      <td>28.4</td>\n",
       "      <td>199000.0</td>\n",
       "      <td>expensive</td>\n",
       "      <td>100.0</td>\n",
       "      <td>92.5</td>\n",
       "    </tr>\n",
       "    <tr>\n",
       "      <td>32024</td>\n",
       "      <td>11</td>\n",
       "      <td>26</td>\n",
       "      <td>6</td>\n",
       "      <td>20</td>\n",
       "      <td>Tuesday</td>\n",
       "      <td>0</td>\n",
       "      <td>말</td>\n",
       "      <td>중간</td>\n",
       "      <td>20.0</td>\n",
       "      <td>100288</td>\n",
       "      <td>속옷</td>\n",
       "      <td>1.8</td>\n",
       "      <td>0.0</td>\n",
       "      <td>2.1</td>\n",
       "      <td>70.0</td>\n",
       "      <td>76.0</td>\n",
       "      <td>5.3</td>\n",
       "      <td>69900.0</td>\n",
       "      <td>medium</td>\n",
       "      <td>100.2</td>\n",
       "      <td>101.0</td>\n",
       "    </tr>\n",
       "    <tr>\n",
       "      <td>9293</td>\n",
       "      <td>4</td>\n",
       "      <td>8</td>\n",
       "      <td>7</td>\n",
       "      <td>20</td>\n",
       "      <td>Monday</td>\n",
       "      <td>0</td>\n",
       "      <td>중</td>\n",
       "      <td>중간</td>\n",
       "      <td>20.0</td>\n",
       "      <td>100596</td>\n",
       "      <td>속옷</td>\n",
       "      <td>7.7</td>\n",
       "      <td>0.0</td>\n",
       "      <td>2.9</td>\n",
       "      <td>290.0</td>\n",
       "      <td>30.0</td>\n",
       "      <td>3.1</td>\n",
       "      <td>79000.0</td>\n",
       "      <td>medium</td>\n",
       "      <td>100.6</td>\n",
       "      <td>101.6</td>\n",
       "    </tr>\n",
       "    <tr>\n",
       "      <td>...</td>\n",
       "      <td>...</td>\n",
       "      <td>...</td>\n",
       "      <td>...</td>\n",
       "      <td>...</td>\n",
       "      <td>...</td>\n",
       "      <td>...</td>\n",
       "      <td>...</td>\n",
       "      <td>...</td>\n",
       "      <td>...</td>\n",
       "      <td>...</td>\n",
       "      <td>...</td>\n",
       "      <td>...</td>\n",
       "      <td>...</td>\n",
       "      <td>...</td>\n",
       "      <td>...</td>\n",
       "      <td>...</td>\n",
       "      <td>...</td>\n",
       "      <td>...</td>\n",
       "      <td>...</td>\n",
       "      <td>...</td>\n",
       "      <td>...</td>\n",
       "    </tr>\n",
       "    <tr>\n",
       "      <td>20580</td>\n",
       "      <td>7</td>\n",
       "      <td>28</td>\n",
       "      <td>10</td>\n",
       "      <td>20</td>\n",
       "      <td>Sunday</td>\n",
       "      <td>1</td>\n",
       "      <td>말</td>\n",
       "      <td>중간</td>\n",
       "      <td>20.0</td>\n",
       "      <td>100412</td>\n",
       "      <td>의류</td>\n",
       "      <td>25.4</td>\n",
       "      <td>0.4</td>\n",
       "      <td>2.6</td>\n",
       "      <td>200.0</td>\n",
       "      <td>94.0</td>\n",
       "      <td>30.4</td>\n",
       "      <td>39000.0</td>\n",
       "      <td>cheap</td>\n",
       "      <td>100.6</td>\n",
       "      <td>95.9</td>\n",
       "    </tr>\n",
       "    <tr>\n",
       "      <td>18062</td>\n",
       "      <td>7</td>\n",
       "      <td>3</td>\n",
       "      <td>20</td>\n",
       "      <td>40</td>\n",
       "      <td>Wednesday</td>\n",
       "      <td>0</td>\n",
       "      <td>초</td>\n",
       "      <td>마지막</td>\n",
       "      <td>20.0</td>\n",
       "      <td>100618</td>\n",
       "      <td>속옷</td>\n",
       "      <td>25.0</td>\n",
       "      <td>0.0</td>\n",
       "      <td>1.4</td>\n",
       "      <td>200.0</td>\n",
       "      <td>69.0</td>\n",
       "      <td>21.8</td>\n",
       "      <td>69000.0</td>\n",
       "      <td>medium</td>\n",
       "      <td>100.6</td>\n",
       "      <td>95.9</td>\n",
       "    </tr>\n",
       "    <tr>\n",
       "      <td>18977</td>\n",
       "      <td>7</td>\n",
       "      <td>12</td>\n",
       "      <td>23</td>\n",
       "      <td>40</td>\n",
       "      <td>Friday</td>\n",
       "      <td>0</td>\n",
       "      <td>중</td>\n",
       "      <td>마지막</td>\n",
       "      <td>20.0</td>\n",
       "      <td>100598</td>\n",
       "      <td>속옷</td>\n",
       "      <td>22.8</td>\n",
       "      <td>0.0</td>\n",
       "      <td>1.6</td>\n",
       "      <td>250.0</td>\n",
       "      <td>72.0</td>\n",
       "      <td>19.9</td>\n",
       "      <td>59000.0</td>\n",
       "      <td>cheap</td>\n",
       "      <td>100.6</td>\n",
       "      <td>95.9</td>\n",
       "    </tr>\n",
       "    <tr>\n",
       "      <td>2898</td>\n",
       "      <td>2</td>\n",
       "      <td>2</td>\n",
       "      <td>15</td>\n",
       "      <td>40</td>\n",
       "      <td>Saturday</td>\n",
       "      <td>1</td>\n",
       "      <td>초</td>\n",
       "      <td>마지막</td>\n",
       "      <td>20.0</td>\n",
       "      <td>100606</td>\n",
       "      <td>속옷</td>\n",
       "      <td>4.5</td>\n",
       "      <td>0.0</td>\n",
       "      <td>1.0</td>\n",
       "      <td>70.0</td>\n",
       "      <td>51.0</td>\n",
       "      <td>4.3</td>\n",
       "      <td>119000.0</td>\n",
       "      <td>expensive</td>\n",
       "      <td>100.5</td>\n",
       "      <td>99.5</td>\n",
       "    </tr>\n",
       "    <tr>\n",
       "      <td>27934</td>\n",
       "      <td>10</td>\n",
       "      <td>12</td>\n",
       "      <td>7</td>\n",
       "      <td>0</td>\n",
       "      <td>Saturday</td>\n",
       "      <td>1</td>\n",
       "      <td>중</td>\n",
       "      <td>시작</td>\n",
       "      <td>20.0</td>\n",
       "      <td>100452</td>\n",
       "      <td>의류</td>\n",
       "      <td>15.5</td>\n",
       "      <td>0.0</td>\n",
       "      <td>2.4</td>\n",
       "      <td>360.0</td>\n",
       "      <td>58.0</td>\n",
       "      <td>10.2</td>\n",
       "      <td>49000.0</td>\n",
       "      <td>cheap</td>\n",
       "      <td>100.0</td>\n",
       "      <td>98.6</td>\n",
       "    </tr>\n",
       "  </tbody>\n",
       "</table>\n",
       "<p>6318 rows × 21 columns</p>\n",
       "</div>"
      ],
      "text/plain": [
       "      month  day  hour  minute    weekday holiday month_order order_grp  \\\n",
       "3629      2   10     7       0     Sunday       1           중        시작   \n",
       "7733      3   24     8      20     Sunday       1           말        중간   \n",
       "21605     8    8     8      20   Thursday       0           중        중간   \n",
       "32024    11   26     6      20    Tuesday       0           말        중간   \n",
       "9293      4    8     7      20     Monday       0           중        중간   \n",
       "...     ...  ...   ...     ...        ...     ...         ...       ...   \n",
       "20580     7   28    10      20     Sunday       1           말        중간   \n",
       "18062     7    3    20      40  Wednesday       0           초       마지막   \n",
       "18977     7   12    23      40     Friday       0           중       마지막   \n",
       "2898      2    2    15      40   Saturday       1           초       마지막   \n",
       "27934    10   12     7       0   Saturday       1           중        시작   \n",
       "\n",
       "       exposure(min)  mother_cd product_grp  temp  rainfall  wind_speed  \\\n",
       "3629            20.0     100369          의류  -9.0       0.0         1.1   \n",
       "7733            20.0     100452          의류   0.3       0.0         1.4   \n",
       "21605           20.0     100049          의류  26.4       0.0         0.6   \n",
       "32024           20.0     100288          속옷   1.8       0.0         2.1   \n",
       "9293            20.0     100596          속옷   7.7       0.0         2.9   \n",
       "...              ...        ...         ...   ...       ...         ...   \n",
       "20580           20.0     100412          의류  25.4       0.4         2.6   \n",
       "18062           20.0     100618          속옷  25.0       0.0         1.4   \n",
       "18977           20.0     100598          속옷  22.8       0.0         1.6   \n",
       "2898            20.0     100606          속옷   4.5       0.0         1.0   \n",
       "27934           20.0     100452          의류  15.5       0.0         2.4   \n",
       "\n",
       "       wind_direction  humidity  pressure  unit_price unit_price_group    cpi  \\\n",
       "3629             50.0      39.0       1.2     59000.0            cheap  100.5   \n",
       "7733            290.0      48.0       3.0     49000.0            cheap  100.4   \n",
       "21605            20.0      83.0      28.4    199000.0        expensive  100.0   \n",
       "32024            70.0      76.0       5.3     69900.0           medium  100.2   \n",
       "9293            290.0      30.0       3.1     79000.0           medium  100.6   \n",
       "...               ...       ...       ...         ...              ...    ...   \n",
       "20580           200.0      94.0      30.4     39000.0            cheap  100.6   \n",
       "18062           200.0      69.0      21.8     69000.0           medium  100.6   \n",
       "18977           250.0      72.0      19.9     59000.0            cheap  100.6   \n",
       "2898             70.0      51.0       4.3    119000.0        expensive  100.5   \n",
       "27934           360.0      58.0      10.2     49000.0            cheap  100.0   \n",
       "\n",
       "         csi  \n",
       "3629    99.5  \n",
       "7733    99.8  \n",
       "21605   92.5  \n",
       "32024  101.0  \n",
       "9293   101.6  \n",
       "...      ...  \n",
       "20580   95.9  \n",
       "18062   95.9  \n",
       "18977   95.9  \n",
       "2898    99.5  \n",
       "27934   98.6  \n",
       "\n",
       "[6318 rows x 21 columns]"
      ]
     },
     "execution_count": 159,
     "metadata": {},
     "output_type": "execute_result"
    }
   ],
   "source": [
    "X4_train"
   ]
  },
  {
   "cell_type": "code",
   "execution_count": 160,
   "metadata": {},
   "outputs": [],
   "source": [
    "def model4_mape(num_leaves, learning_rate, n_estimators, max_depth, min_child_samples):\n",
    "    model4 = lgb.LGBMRegressor(objective = 'regression', \n",
    "                              boosting = 'gbdt',\n",
    "                              num_leaves = int(num_leaves), \n",
    "                              learning_rate = learning_rate,\n",
    "                              n_estimators = int(n_estimators), \n",
    "                              max_depth = int(max_depth),\n",
    "                              min_child_samples = int(min_child_samples)\n",
    "                              )\n",
    "    model4.fit(X4_train, y4_train)\n",
    "    y4_pred = model4.predict(X4_test)\n",
    "    mape = mean_absolute_percentage_error(np.exp(y4_test), np.exp(y4_pred))\n",
    "    return -mape\n",
    "\n",
    "pbounds4 = {'num_leaves': (2, 60), \n",
    "           'learning_rate': (0.05, 0.15),\n",
    "          'n_estimators': (500, 1500),\n",
    "            'max_depth' : (1,50),\n",
    "            'min_child_samples' : (1,50) \n",
    "           }"
   ]
  },
  {
   "cell_type": "code",
   "execution_count": 161,
   "metadata": {},
   "outputs": [
    {
     "name": "stdout",
     "output_type": "stream",
     "text": [
      "[LightGBM] [Warning] boosting is set=gbdt, boosting_type=gbdt will be ignored. Current value: boosting=gbdt\n"
     ]
    },
    {
     "data": {
      "text/plain": [
       "LGBMRegressor(boosting='gbdt', learning_rate=0.13609953538724062, max_depth=4,\n",
       "              min_child_samples=8, n_estimators=550, num_leaves=29,\n",
       "              objective='regression')"
      ]
     },
     "execution_count": 161,
     "metadata": {},
     "output_type": "execute_result"
    }
   ],
   "source": [
    "model4 = lgb.LGBMRegressor(objective = 'regression', \n",
    "                              boosting = 'gbdt',\n",
    "                              num_leaves = 29,\n",
    "                              learning_rate = 0.13609953538724062,\n",
    "                              n_estimators = 550, \n",
    "                              max_depth = 4,\n",
    "                              min_child_samples = 8\n",
    "                              )\n",
    "model4.fit(X4_train, y4_train)"
   ]
  },
  {
   "cell_type": "code",
   "execution_count": 166,
   "metadata": {},
   "outputs": [],
   "source": [
    "def model4_mape(num_leaves, learning_rate, n_estimators, max_depth, min_child_samples):\n",
    "    model4 = lgb.LGBMRegressor(objective = 'regression', \n",
    "                              boosting = 'gbdt',\n",
    "                              num_leaves = int(num_leaves), \n",
    "                              learning_rate = learning_rate,\n",
    "                              n_estimators = int(n_estimators), \n",
    "                              max_depth = int(max_depth),\n",
    "                              min_child_samples = int(min_child_samples)\n",
    "                              )\n",
    "    model4.fit(X4_train, y4_train)\n",
    "    y4_pred = model4.predict(X4_test)\n",
    "    mape = mean_absolute_percentage_error(np.exp(y4_test), np.exp(y4_pred))\n",
    "    return -mape\n",
    "\n",
    "pbounds4 = {'num_leaves': (2, 50), \n",
    "           'learning_rate': (0.05, 0.15),\n",
    "          'n_estimators': (500, 1500),\n",
    "            'max_depth' : (1,50),\n",
    "            'min_child_samples' : (1,50)\n",
    "           }"
   ]
  },
  {
   "cell_type": "code",
   "execution_count": 167,
   "metadata": {},
   "outputs": [
    {
     "name": "stdout",
     "output_type": "stream",
     "text": [
      "|   iter    |  target   | learni... | max_depth | min_ch... | n_esti... | num_le... |\n",
      "-------------------------------------------------------------------------------------\n",
      "[LightGBM] [Warning] boosting is set=gbdt, boosting_type=gbdt will be ignored. Current value: boosting=gbdt\n",
      "| \u001b[0m 1       \u001b[0m | \u001b[0m-60.91   \u001b[0m | \u001b[0m 0.1051  \u001b[0m | \u001b[0m 35.7    \u001b[0m | \u001b[0m 15.25   \u001b[0m | \u001b[0m 1.011e+0\u001b[0m | \u001b[0m 44.86   \u001b[0m |\n",
      "[LightGBM] [Warning] boosting is set=gbdt, boosting_type=gbdt will be ignored. Current value: boosting=gbdt\n",
      "| \u001b[95m 2       \u001b[0m | \u001b[95m-53.08   \u001b[0m | \u001b[95m 0.1396  \u001b[0m | \u001b[95m 7.154   \u001b[0m | \u001b[95m 11.15   \u001b[0m | \u001b[95m 551.5   \u001b[0m | \u001b[95m 23.16   \u001b[0m |\n",
      "[LightGBM] [Warning] boosting is set=gbdt, boosting_type=gbdt will be ignored. Current value: boosting=gbdt\n",
      "| \u001b[95m 3       \u001b[0m | \u001b[95m-50.04   \u001b[0m | \u001b[95m 0.06973 \u001b[0m | \u001b[95m 4.886   \u001b[0m | \u001b[95m 10.81   \u001b[0m | \u001b[95m 547.9   \u001b[0m | \u001b[95m 29.2    \u001b[0m |\n",
      "[LightGBM] [Warning] boosting is set=gbdt, boosting_type=gbdt will be ignored. Current value: boosting=gbdt\n",
      "| \u001b[0m 4       \u001b[0m | \u001b[0m-50.67   \u001b[0m | \u001b[0m 0.1184  \u001b[0m | \u001b[0m 5.811   \u001b[0m | \u001b[0m 18.17   \u001b[0m | \u001b[0m 537.0   \u001b[0m | \u001b[0m 36.85   \u001b[0m |\n",
      "[LightGBM] [Warning] boosting is set=gbdt, boosting_type=gbdt will be ignored. Current value: boosting=gbdt\n",
      "| \u001b[0m 5       \u001b[0m | \u001b[0m-50.24   \u001b[0m | \u001b[0m 0.1435  \u001b[0m | \u001b[0m 3.705   \u001b[0m | \u001b[0m 2.127   \u001b[0m | \u001b[0m 555.2   \u001b[0m | \u001b[0m 44.04   \u001b[0m |\n",
      "[LightGBM] [Warning] boosting is set=gbdt, boosting_type=gbdt will be ignored. Current value: boosting=gbdt\n",
      "| \u001b[0m 6       \u001b[0m | \u001b[0m-59.6    \u001b[0m | \u001b[0m 0.0817  \u001b[0m | \u001b[0m 24.14   \u001b[0m | \u001b[0m 1.748   \u001b[0m | \u001b[0m 533.1   \u001b[0m | \u001b[0m 48.25   \u001b[0m |\n",
      "[LightGBM] [Warning] boosting is set=gbdt, boosting_type=gbdt will be ignored. Current value: boosting=gbdt\n",
      "| \u001b[0m 7       \u001b[0m | \u001b[0m-54.25   \u001b[0m | \u001b[0m 0.15    \u001b[0m | \u001b[0m 8.955   \u001b[0m | \u001b[0m 12.09   \u001b[0m | \u001b[0m 552.2   \u001b[0m | \u001b[0m 23.73   \u001b[0m |\n",
      "[LightGBM] [Warning] boosting is set=gbdt, boosting_type=gbdt will be ignored. Current value: boosting=gbdt\n",
      "| \u001b[0m 8       \u001b[0m | \u001b[0m-52.12   \u001b[0m | \u001b[0m 0.1055  \u001b[0m | \u001b[0m 3.809   \u001b[0m | \u001b[0m 20.4    \u001b[0m | \u001b[0m 551.1   \u001b[0m | \u001b[0m 47.15   \u001b[0m |\n",
      "[LightGBM] [Warning] boosting is set=gbdt, boosting_type=gbdt will be ignored. Current value: boosting=gbdt\n",
      "| \u001b[0m 9       \u001b[0m | \u001b[0m-80.58   \u001b[0m | \u001b[0m 0.05626 \u001b[0m | \u001b[0m 1.944   \u001b[0m | \u001b[0m 19.17   \u001b[0m | \u001b[0m 528.4   \u001b[0m | \u001b[0m 22.23   \u001b[0m |\n",
      "[LightGBM] [Warning] boosting is set=gbdt, boosting_type=gbdt will be ignored. Current value: boosting=gbdt\n",
      "| \u001b[0m 10      \u001b[0m | \u001b[0m-73.21   \u001b[0m | \u001b[0m 0.15    \u001b[0m | \u001b[0m 1.0     \u001b[0m | \u001b[0m 7.466   \u001b[0m | \u001b[0m 540.7   \u001b[0m | \u001b[0m 44.9    \u001b[0m |\n",
      "[LightGBM] [Warning] boosting is set=gbdt, boosting_type=gbdt will be ignored. Current value: boosting=gbdt\n",
      "| \u001b[0m 11      \u001b[0m | \u001b[0m-52.96   \u001b[0m | \u001b[0m 0.08503 \u001b[0m | \u001b[0m 8.826   \u001b[0m | \u001b[0m 10.55   \u001b[0m | \u001b[0m 554.3   \u001b[0m | \u001b[0m 36.72   \u001b[0m |\n",
      "[LightGBM] [Warning] boosting is set=gbdt, boosting_type=gbdt will be ignored. Current value: boosting=gbdt\n",
      "| \u001b[0m 12      \u001b[0m | \u001b[0m-56.44   \u001b[0m | \u001b[0m 0.1367  \u001b[0m | \u001b[0m 13.89   \u001b[0m | \u001b[0m 20.38   \u001b[0m | \u001b[0m 547.1   \u001b[0m | \u001b[0m 33.82   \u001b[0m |\n",
      "[LightGBM] [Warning] boosting is set=gbdt, boosting_type=gbdt will be ignored. Current value: boosting=gbdt\n",
      "| \u001b[0m 13      \u001b[0m | \u001b[0m-57.22   \u001b[0m | \u001b[0m 0.124   \u001b[0m | \u001b[0m 2.961   \u001b[0m | \u001b[0m 10.55   \u001b[0m | \u001b[0m 561.2   \u001b[0m | \u001b[0m 45.76   \u001b[0m |\n",
      "[LightGBM] [Warning] boosting is set=gbdt, boosting_type=gbdt will be ignored. Current value: boosting=gbdt\n",
      "| \u001b[0m 14      \u001b[0m | \u001b[0m-55.15   \u001b[0m | \u001b[0m 0.07796 \u001b[0m | \u001b[0m 10.18   \u001b[0m | \u001b[0m 1.267   \u001b[0m | \u001b[0m 557.7   \u001b[0m | \u001b[0m 35.72   \u001b[0m |\n",
      "[LightGBM] [Warning] boosting is set=gbdt, boosting_type=gbdt will be ignored. Current value: boosting=gbdt\n",
      "| \u001b[0m 15      \u001b[0m | \u001b[0m-78.38   \u001b[0m | \u001b[0m 0.07185 \u001b[0m | \u001b[0m 1.641   \u001b[0m | \u001b[0m 24.08   \u001b[0m | \u001b[0m 540.9   \u001b[0m | \u001b[0m 42.59   \u001b[0m |\n",
      "[LightGBM] [Warning] boosting is set=gbdt, boosting_type=gbdt will be ignored. Current value: boosting=gbdt\n",
      "[LightGBM] [Warning] Accuracy may be bad since you didn't set num_leaves and 2^max_depth > num_leaves\n",
      "| \u001b[0m 16      \u001b[0m | \u001b[0m-52.62   \u001b[0m | \u001b[0m 0.1137  \u001b[0m | \u001b[0m 6.143   \u001b[0m | \u001b[0m 5.476   \u001b[0m | \u001b[0m 553.6   \u001b[0m | \u001b[0m 31.88   \u001b[0m |\n",
      "[LightGBM] [Warning] boosting is set=gbdt, boosting_type=gbdt will be ignored. Current value: boosting=gbdt\n",
      "| \u001b[0m 17      \u001b[0m | \u001b[0m-58.54   \u001b[0m | \u001b[0m 0.1093  \u001b[0m | \u001b[0m 2.299   \u001b[0m | \u001b[0m 16.19   \u001b[0m | \u001b[0m 550.5   \u001b[0m | \u001b[0m 28.02   \u001b[0m |\n",
      "[LightGBM] [Warning] boosting is set=gbdt, boosting_type=gbdt will be ignored. Current value: boosting=gbdt\n",
      "| \u001b[0m 18      \u001b[0m | \u001b[0m-50.96   \u001b[0m | \u001b[0m 0.05851 \u001b[0m | \u001b[0m 6.619   \u001b[0m | \u001b[0m 12.17   \u001b[0m | \u001b[0m 553.7   \u001b[0m | \u001b[0m 47.07   \u001b[0m |\n",
      "[LightGBM] [Warning] boosting is set=gbdt, boosting_type=gbdt will be ignored. Current value: boosting=gbdt\n",
      "[LightGBM] [Warning] Accuracy may be bad since you didn't set num_leaves and 2^max_depth > num_leaves\n",
      "| \u001b[0m 19      \u001b[0m | \u001b[0m-54.76   \u001b[0m | \u001b[0m 0.1171  \u001b[0m | \u001b[0m 15.6    \u001b[0m | \u001b[0m 11.6    \u001b[0m | \u001b[0m 541.4   \u001b[0m | \u001b[0m 31.93   \u001b[0m |\n",
      "[LightGBM] [Warning] boosting is set=gbdt, boosting_type=gbdt will be ignored. Current value: boosting=gbdt\n",
      "| \u001b[0m 20      \u001b[0m | \u001b[0m-56.53   \u001b[0m | \u001b[0m 0.1058  \u001b[0m | \u001b[0m 14.13   \u001b[0m | \u001b[0m 16.27   \u001b[0m | \u001b[0m 533.6   \u001b[0m | \u001b[0m 38.83   \u001b[0m |\n",
      "[LightGBM] [Warning] boosting is set=gbdt, boosting_type=gbdt will be ignored. Current value: boosting=gbdt\n",
      "| \u001b[0m 21      \u001b[0m | \u001b[0m-73.55   \u001b[0m | \u001b[0m 0.1398  \u001b[0m | \u001b[0m 1.998   \u001b[0m | \u001b[0m 3.838   \u001b[0m | \u001b[0m 546.7   \u001b[0m | \u001b[0m 25.84   \u001b[0m |\n",
      "[LightGBM] [Warning] boosting is set=gbdt, boosting_type=gbdt will be ignored. Current value: boosting=gbdt\n",
      "| \u001b[0m 22      \u001b[0m | \u001b[0m-56.44   \u001b[0m | \u001b[0m 0.1493  \u001b[0m | \u001b[0m 2.446   \u001b[0m | \u001b[0m 16.08   \u001b[0m | \u001b[0m 554.0   \u001b[0m | \u001b[0m 41.31   \u001b[0m |\n",
      "[LightGBM] [Warning] boosting is set=gbdt, boosting_type=gbdt will be ignored. Current value: boosting=gbdt\n",
      "| \u001b[0m 23      \u001b[0m | \u001b[0m-77.26   \u001b[0m | \u001b[0m 0.08085 \u001b[0m | \u001b[0m 1.775   \u001b[0m | \u001b[0m 16.0    \u001b[0m | \u001b[0m 556.2   \u001b[0m | \u001b[0m 49.98   \u001b[0m |\n",
      "[LightGBM] [Warning] boosting is set=gbdt, boosting_type=gbdt will be ignored. Current value: boosting=gbdt\n",
      "| \u001b[0m 24      \u001b[0m | \u001b[0m-73.81   \u001b[0m | \u001b[0m 0.1316  \u001b[0m | \u001b[0m 1.919   \u001b[0m | \u001b[0m 10.87   \u001b[0m | \u001b[0m 550.3   \u001b[0m | \u001b[0m 32.73   \u001b[0m |\n",
      "[LightGBM] [Warning] boosting is set=gbdt, boosting_type=gbdt will be ignored. Current value: boosting=gbdt\n",
      "| \u001b[95m 25      \u001b[0m | \u001b[95m-49.74   \u001b[0m | \u001b[95m 0.08508 \u001b[0m | \u001b[95m 5.925   \u001b[0m | \u001b[95m 2.591   \u001b[0m | \u001b[95m 555.8   \u001b[0m | \u001b[95m 47.47   \u001b[0m |\n",
      "[LightGBM] [Warning] boosting is set=gbdt, boosting_type=gbdt will be ignored. Current value: boosting=gbdt\n",
      "| \u001b[0m 26      \u001b[0m | \u001b[0m-52.6    \u001b[0m | \u001b[0m 0.06605 \u001b[0m | \u001b[0m 7.301   \u001b[0m | \u001b[0m 3.001   \u001b[0m | \u001b[0m 553.9   \u001b[0m | \u001b[0m 45.58   \u001b[0m |\n",
      "[LightGBM] [Warning] boosting is set=gbdt, boosting_type=gbdt will be ignored. Current value: boosting=gbdt\n",
      "| \u001b[0m 27      \u001b[0m | \u001b[0m-50.03   \u001b[0m | \u001b[0m 0.05938 \u001b[0m | \u001b[0m 7.197   \u001b[0m | \u001b[0m 16.64   \u001b[0m | \u001b[0m 536.7   \u001b[0m | \u001b[0m 33.4    \u001b[0m |\n",
      "[LightGBM] [Warning] boosting is set=gbdt, boosting_type=gbdt will be ignored. Current value: boosting=gbdt\n",
      "| \u001b[0m 28      \u001b[0m | \u001b[0m-57.71   \u001b[0m | \u001b[0m 0.1291  \u001b[0m | \u001b[0m 8.184   \u001b[0m | \u001b[0m 10.61   \u001b[0m | \u001b[0m 551.1   \u001b[0m | \u001b[0m 44.26   \u001b[0m |\n",
      "[LightGBM] [Warning] boosting is set=gbdt, boosting_type=gbdt will be ignored. Current value: boosting=gbdt\n",
      "| \u001b[0m 29      \u001b[0m | \u001b[0m-53.71   \u001b[0m | \u001b[0m 0.08542 \u001b[0m | \u001b[0m 3.18    \u001b[0m | \u001b[0m 14.81   \u001b[0m | \u001b[0m 539.1   \u001b[0m | \u001b[0m 31.83   \u001b[0m |\n",
      "[LightGBM] [Warning] boosting is set=gbdt, boosting_type=gbdt will be ignored. Current value: boosting=gbdt\n",
      "| \u001b[0m 30      \u001b[0m | \u001b[0m-52.47   \u001b[0m | \u001b[0m 0.09834 \u001b[0m | \u001b[0m 8.931   \u001b[0m | \u001b[0m 14.74   \u001b[0m | \u001b[0m 547.7   \u001b[0m | \u001b[0m 27.85   \u001b[0m |\n",
      "[LightGBM] [Warning] boosting is set=gbdt, boosting_type=gbdt will be ignored. Current value: boosting=gbdt\n",
      "| \u001b[0m 31      \u001b[0m | \u001b[0m-54.18   \u001b[0m | \u001b[0m 0.08351 \u001b[0m | \u001b[0m 7.392   \u001b[0m | \u001b[0m 3.178   \u001b[0m | \u001b[0m 555.5   \u001b[0m | \u001b[0m 40.07   \u001b[0m |\n",
      "[LightGBM] [Warning] boosting is set=gbdt, boosting_type=gbdt will be ignored. Current value: boosting=gbdt\n"
     ]
    },
    {
     "name": "stdout",
     "output_type": "stream",
     "text": [
      "| \u001b[0m 32      \u001b[0m | \u001b[0m-54.32   \u001b[0m | \u001b[0m 0.07179 \u001b[0m | \u001b[0m 3.379   \u001b[0m | \u001b[0m 5.636   \u001b[0m | \u001b[0m 555.6   \u001b[0m | \u001b[0m 48.16   \u001b[0m |\n",
      "[LightGBM] [Warning] boosting is set=gbdt, boosting_type=gbdt will be ignored. Current value: boosting=gbdt\n",
      "| \u001b[0m 33      \u001b[0m | \u001b[0m-73.39   \u001b[0m | \u001b[0m 0.1388  \u001b[0m | \u001b[0m 1.3     \u001b[0m | \u001b[0m 2.18    \u001b[0m | \u001b[0m 560.9   \u001b[0m | \u001b[0m 47.46   \u001b[0m |\n",
      "[LightGBM] [Warning] boosting is set=gbdt, boosting_type=gbdt will be ignored. Current value: boosting=gbdt\n",
      "| \u001b[0m 34      \u001b[0m | \u001b[0m-58.47   \u001b[0m | \u001b[0m 0.1476  \u001b[0m | \u001b[0m 7.259   \u001b[0m | \u001b[0m 5.645   \u001b[0m | \u001b[0m 556.3   \u001b[0m | \u001b[0m 36.16   \u001b[0m |\n",
      "[LightGBM] [Warning] boosting is set=gbdt, boosting_type=gbdt will be ignored. Current value: boosting=gbdt\n",
      "| \u001b[0m 35      \u001b[0m | \u001b[0m-51.62   \u001b[0m | \u001b[0m 0.05713 \u001b[0m | \u001b[0m 8.011   \u001b[0m | \u001b[0m 16.24   \u001b[0m | \u001b[0m 555.9   \u001b[0m | \u001b[0m 43.63   \u001b[0m |\n",
      "[LightGBM] [Warning] boosting is set=gbdt, boosting_type=gbdt will be ignored. Current value: boosting=gbdt\n",
      "| \u001b[0m 36      \u001b[0m | \u001b[0m-53.72   \u001b[0m | \u001b[0m 0.1273  \u001b[0m | \u001b[0m 7.175   \u001b[0m | \u001b[0m 17.44   \u001b[0m | \u001b[0m 544.3   \u001b[0m | \u001b[0m 32.07   \u001b[0m |\n",
      "[LightGBM] [Warning] boosting is set=gbdt, boosting_type=gbdt will be ignored. Current value: boosting=gbdt\n",
      "| \u001b[0m 37      \u001b[0m | \u001b[0m-56.07   \u001b[0m | \u001b[0m 0.146   \u001b[0m | \u001b[0m 11.97   \u001b[0m | \u001b[0m 15.01   \u001b[0m | \u001b[0m 540.1   \u001b[0m | \u001b[0m 28.8    \u001b[0m |\n",
      "[LightGBM] [Warning] boosting is set=gbdt, boosting_type=gbdt will be ignored. Current value: boosting=gbdt\n",
      "[LightGBM] [Warning] Accuracy may be bad since you didn't set num_leaves and 2^max_depth > num_leaves\n",
      "| \u001b[0m 38      \u001b[0m | \u001b[0m-51.5    \u001b[0m | \u001b[0m 0.05901 \u001b[0m | \u001b[0m 14.01   \u001b[0m | \u001b[0m 9.09    \u001b[0m | \u001b[0m 547.0   \u001b[0m | \u001b[0m 31.69   \u001b[0m |\n",
      "[LightGBM] [Warning] boosting is set=gbdt, boosting_type=gbdt will be ignored. Current value: boosting=gbdt\n",
      "| \u001b[0m 39      \u001b[0m | \u001b[0m-54.17   \u001b[0m | \u001b[0m 0.1141  \u001b[0m | \u001b[0m 10.41   \u001b[0m | \u001b[0m 6.222   \u001b[0m | \u001b[0m 553.2   \u001b[0m | \u001b[0m 25.63   \u001b[0m |\n",
      "[LightGBM] [Warning] boosting is set=gbdt, boosting_type=gbdt will be ignored. Current value: boosting=gbdt\n",
      "| \u001b[0m 40      \u001b[0m | \u001b[0m-50.91   \u001b[0m | \u001b[0m 0.05    \u001b[0m | \u001b[0m 9.248   \u001b[0m | \u001b[0m 9.401   \u001b[0m | \u001b[0m 548.7   \u001b[0m | \u001b[0m 29.15   \u001b[0m |\n",
      "[LightGBM] [Warning] boosting is set=gbdt, boosting_type=gbdt will be ignored. Current value: boosting=gbdt\n",
      "| \u001b[0m 41      \u001b[0m | \u001b[0m-56.49   \u001b[0m | \u001b[0m 0.1363  \u001b[0m | \u001b[0m 2.897   \u001b[0m | \u001b[0m 1.859   \u001b[0m | \u001b[0m 550.9   \u001b[0m | \u001b[0m 48.53   \u001b[0m |\n",
      "[LightGBM] [Warning] boosting is set=gbdt, boosting_type=gbdt will be ignored. Current value: boosting=gbdt\n",
      "| \u001b[0m 42      \u001b[0m | \u001b[0m-56.88   \u001b[0m | \u001b[0m 0.1147  \u001b[0m | \u001b[0m 10.45   \u001b[0m | \u001b[0m 22.48   \u001b[0m | \u001b[0m 548.0   \u001b[0m | \u001b[0m 46.59   \u001b[0m |\n",
      "[LightGBM] [Warning] boosting is set=gbdt, boosting_type=gbdt will be ignored. Current value: boosting=gbdt\n",
      "| \u001b[0m 43      \u001b[0m | \u001b[0m-54.08   \u001b[0m | \u001b[0m 0.1005  \u001b[0m | \u001b[0m 8.715   \u001b[0m | \u001b[0m 14.98   \u001b[0m | \u001b[0m 538.2   \u001b[0m | \u001b[0m 37.03   \u001b[0m |\n",
      "[LightGBM] [Warning] boosting is set=gbdt, boosting_type=gbdt will be ignored. Current value: boosting=gbdt\n",
      "| \u001b[0m 44      \u001b[0m | \u001b[0m-55.09   \u001b[0m | \u001b[0m 0.08892 \u001b[0m | \u001b[0m 10.05   \u001b[0m | \u001b[0m 5.301   \u001b[0m | \u001b[0m 546.8   \u001b[0m | \u001b[0m 33.28   \u001b[0m |\n",
      "[LightGBM] [Warning] boosting is set=gbdt, boosting_type=gbdt will be ignored. Current value: boosting=gbdt\n",
      "| \u001b[0m 45      \u001b[0m | \u001b[0m-52.18   \u001b[0m | \u001b[0m 0.1223  \u001b[0m | \u001b[0m 6.877   \u001b[0m | \u001b[0m 18.32   \u001b[0m | \u001b[0m 550.0   \u001b[0m | \u001b[0m 42.6    \u001b[0m |\n",
      "[LightGBM] [Warning] boosting is set=gbdt, boosting_type=gbdt will be ignored. Current value: boosting=gbdt\n",
      "[LightGBM] [Warning] Accuracy may be bad since you didn't set num_leaves and 2^max_depth > num_leaves\n",
      "| \u001b[0m 46      \u001b[0m | \u001b[0m-51.68   \u001b[0m | \u001b[0m 0.06274 \u001b[0m | \u001b[0m 18.5    \u001b[0m | \u001b[0m 7.101   \u001b[0m | \u001b[0m 553.4   \u001b[0m | \u001b[0m 31.24   \u001b[0m |\n",
      "[LightGBM] [Warning] boosting is set=gbdt, boosting_type=gbdt will be ignored. Current value: boosting=gbdt\n",
      "[LightGBM] [Warning] Accuracy may be bad since you didn't set num_leaves and 2^max_depth > num_leaves\n",
      "| \u001b[0m 47      \u001b[0m | \u001b[0m-50.31   \u001b[0m | \u001b[0m 0.05    \u001b[0m | \u001b[0m 12.99   \u001b[0m | \u001b[0m 9.989   \u001b[0m | \u001b[0m 553.3   \u001b[0m | \u001b[0m 32.0    \u001b[0m |\n",
      "[LightGBM] [Warning] boosting is set=gbdt, boosting_type=gbdt will be ignored. Current value: boosting=gbdt\n",
      "| \u001b[0m 48      \u001b[0m | \u001b[0m-51.39   \u001b[0m | \u001b[0m 0.05645 \u001b[0m | \u001b[0m 12.76   \u001b[0m | \u001b[0m 13.42   \u001b[0m | \u001b[0m 548.5   \u001b[0m | \u001b[0m 34.76   \u001b[0m |\n",
      "[LightGBM] [Warning] boosting is set=gbdt, boosting_type=gbdt will be ignored. Current value: boosting=gbdt\n",
      "| \u001b[0m 49      \u001b[0m | \u001b[0m-56.89   \u001b[0m | \u001b[0m 0.1379  \u001b[0m | \u001b[0m 2.01    \u001b[0m | \u001b[0m 16.71   \u001b[0m | \u001b[0m 531.2   \u001b[0m | \u001b[0m 36.86   \u001b[0m |\n",
      "[LightGBM] [Warning] boosting is set=gbdt, boosting_type=gbdt will be ignored. Current value: boosting=gbdt\n",
      "| \u001b[0m 50      \u001b[0m | \u001b[0m-56.5    \u001b[0m | \u001b[0m 0.1135  \u001b[0m | \u001b[0m 12.91   \u001b[0m | \u001b[0m 17.75   \u001b[0m | \u001b[0m 553.0   \u001b[0m | \u001b[0m 39.43   \u001b[0m |\n",
      "[LightGBM] [Warning] boosting is set=gbdt, boosting_type=gbdt will be ignored. Current value: boosting=gbdt\n",
      "| \u001b[0m 51      \u001b[0m | \u001b[0m-61.51   \u001b[0m | \u001b[0m 0.1327  \u001b[0m | \u001b[0m 12.59   \u001b[0m | \u001b[0m 5.357   \u001b[0m | \u001b[0m 559.9   \u001b[0m | \u001b[0m 47.14   \u001b[0m |\n",
      "[LightGBM] [Warning] boosting is set=gbdt, boosting_type=gbdt will be ignored. Current value: boosting=gbdt\n",
      "| \u001b[0m 52      \u001b[0m | \u001b[0m-56.29   \u001b[0m | \u001b[0m 0.1072  \u001b[0m | \u001b[0m 19.79   \u001b[0m | \u001b[0m 10.76   \u001b[0m | \u001b[0m 556.5   \u001b[0m | \u001b[0m 34.6    \u001b[0m |\n",
      "[LightGBM] [Warning] boosting is set=gbdt, boosting_type=gbdt will be ignored. Current value: boosting=gbdt\n",
      "| \u001b[0m 53      \u001b[0m | \u001b[0m-55.28   \u001b[0m | \u001b[0m 0.07818 \u001b[0m | \u001b[0m 11.67   \u001b[0m | \u001b[0m 14.42   \u001b[0m | \u001b[0m 553.5   \u001b[0m | \u001b[0m 49.44   \u001b[0m |\n",
      "[LightGBM] [Warning] boosting is set=gbdt, boosting_type=gbdt will be ignored. Current value: boosting=gbdt\n",
      "| \u001b[0m 54      \u001b[0m | \u001b[0m-58.71   \u001b[0m | \u001b[0m 0.1355  \u001b[0m | \u001b[0m 20.66   \u001b[0m | \u001b[0m 7.511   \u001b[0m | \u001b[0m 545.8   \u001b[0m | \u001b[0m 37.52   \u001b[0m |\n",
      "[LightGBM] [Warning] boosting is set=gbdt, boosting_type=gbdt will be ignored. Current value: boosting=gbdt\n",
      "| \u001b[95m 55      \u001b[0m | \u001b[95m-49.39   \u001b[0m | \u001b[95m 0.05    \u001b[0m | \u001b[95m 6.917   \u001b[0m | \u001b[95m 11.4    \u001b[0m | \u001b[95m 543.9   \u001b[0m | \u001b[95m 28.68   \u001b[0m |\n",
      "[LightGBM] [Warning] boosting is set=gbdt, boosting_type=gbdt will be ignored. Current value: boosting=gbdt\n",
      "| \u001b[0m 56      \u001b[0m | \u001b[0m-50.88   \u001b[0m | \u001b[0m 0.05    \u001b[0m | \u001b[0m 16.94   \u001b[0m | \u001b[0m 12.63   \u001b[0m | \u001b[0m 550.6   \u001b[0m | \u001b[0m 29.09   \u001b[0m |\n",
      "[LightGBM] [Warning] boosting is set=gbdt, boosting_type=gbdt will be ignored. Current value: boosting=gbdt\n",
      "| \u001b[0m 57      \u001b[0m | \u001b[0m-51.23   \u001b[0m | \u001b[0m 0.06362 \u001b[0m | \u001b[0m 17.79   \u001b[0m | \u001b[0m 17.1    \u001b[0m | \u001b[0m 558.0   \u001b[0m | \u001b[0m 25.24   \u001b[0m |\n",
      "[LightGBM] [Warning] boosting is set=gbdt, boosting_type=gbdt will be ignored. Current value: boosting=gbdt\n",
      "| \u001b[0m 58      \u001b[0m | \u001b[0m-51.42   \u001b[0m | \u001b[0m 0.07345 \u001b[0m | \u001b[0m 21.36   \u001b[0m | \u001b[0m 14.01   \u001b[0m | \u001b[0m 555.0   \u001b[0m | \u001b[0m 26.34   \u001b[0m |\n",
      "[LightGBM] [Warning] boosting is set=gbdt, boosting_type=gbdt will be ignored. Current value: boosting=gbdt\n",
      "| \u001b[0m 59      \u001b[0m | \u001b[0m-55.82   \u001b[0m | \u001b[0m 0.1219  \u001b[0m | \u001b[0m 13.73   \u001b[0m | \u001b[0m 16.66   \u001b[0m | \u001b[0m 558.8   \u001b[0m | \u001b[0m 32.33   \u001b[0m |\n",
      "[LightGBM] [Warning] boosting is set=gbdt, boosting_type=gbdt will be ignored. Current value: boosting=gbdt\n",
      "| \u001b[0m 60      \u001b[0m | \u001b[0m-53.79   \u001b[0m | \u001b[0m 0.1237  \u001b[0m | \u001b[0m 20.51   \u001b[0m | \u001b[0m 7.218   \u001b[0m | \u001b[0m 548.8   \u001b[0m | \u001b[0m 22.92   \u001b[0m |\n",
      "[LightGBM] [Warning] boosting is set=gbdt, boosting_type=gbdt will be ignored. Current value: boosting=gbdt\n",
      "| \u001b[95m 61      \u001b[0m | \u001b[95m-49.18   \u001b[0m | \u001b[95m 0.05153 \u001b[0m | \u001b[95m 20.83   \u001b[0m | \u001b[95m 14.75   \u001b[0m | \u001b[95m 553.5   \u001b[0m | \u001b[95m 18.63   \u001b[0m |\n",
      "[LightGBM] [Warning] boosting is set=gbdt, boosting_type=gbdt will be ignored. Current value: boosting=gbdt\n",
      "| \u001b[0m 62      \u001b[0m | \u001b[0m-50.33   \u001b[0m | \u001b[0m 0.07832 \u001b[0m | \u001b[0m 23.09   \u001b[0m | \u001b[0m 17.79   \u001b[0m | \u001b[0m 553.6   \u001b[0m | \u001b[0m 21.34   \u001b[0m |\n",
      "[LightGBM] [Warning] boosting is set=gbdt, boosting_type=gbdt will be ignored. Current value: boosting=gbdt\n",
      "| \u001b[0m 63      \u001b[0m | \u001b[0m-52.79   \u001b[0m | \u001b[0m 0.0984  \u001b[0m | \u001b[0m 17.86   \u001b[0m | \u001b[0m 12.11   \u001b[0m | \u001b[0m 555.0   \u001b[0m | \u001b[0m 24.48   \u001b[0m |\n"
     ]
    },
    {
     "name": "stdout",
     "output_type": "stream",
     "text": [
      "[LightGBM] [Warning] boosting is set=gbdt, boosting_type=gbdt will be ignored. Current value: boosting=gbdt\n",
      "| \u001b[0m 64      \u001b[0m | \u001b[0m-52.26   \u001b[0m | \u001b[0m 0.1496  \u001b[0m | \u001b[0m 15.2    \u001b[0m | \u001b[0m 20.85   \u001b[0m | \u001b[0m 560.4   \u001b[0m | \u001b[0m 19.55   \u001b[0m |\n",
      "[LightGBM] [Warning] boosting is set=gbdt, boosting_type=gbdt will be ignored. Current value: boosting=gbdt\n",
      "| \u001b[0m 65      \u001b[0m | \u001b[0m-49.41   \u001b[0m | \u001b[0m 0.07986 \u001b[0m | \u001b[0m 23.71   \u001b[0m | \u001b[0m 14.45   \u001b[0m | \u001b[0m 548.1   \u001b[0m | \u001b[0m 18.9    \u001b[0m |\n",
      "[LightGBM] [Warning] boosting is set=gbdt, boosting_type=gbdt will be ignored. Current value: boosting=gbdt\n",
      "| \u001b[0m 66      \u001b[0m | \u001b[0m-53.35   \u001b[0m | \u001b[0m 0.15    \u001b[0m | \u001b[0m 21.91   \u001b[0m | \u001b[0m 15.74   \u001b[0m | \u001b[0m 560.0   \u001b[0m | \u001b[0m 19.59   \u001b[0m |\n",
      "[LightGBM] [Warning] boosting is set=gbdt, boosting_type=gbdt will be ignored. Current value: boosting=gbdt\n",
      "| \u001b[0m 67      \u001b[0m | \u001b[0m-49.45   \u001b[0m | \u001b[0m 0.1138  \u001b[0m | \u001b[0m 20.43   \u001b[0m | \u001b[0m 16.36   \u001b[0m | \u001b[0m 553.6   \u001b[0m | \u001b[0m 12.43   \u001b[0m |\n",
      "[LightGBM] [Warning] boosting is set=gbdt, boosting_type=gbdt will be ignored. Current value: boosting=gbdt\n",
      "| \u001b[0m 68      \u001b[0m | \u001b[0m-49.56   \u001b[0m | \u001b[0m 0.1357  \u001b[0m | \u001b[0m 18.41   \u001b[0m | \u001b[0m 14.29   \u001b[0m | \u001b[0m 549.6   \u001b[0m | \u001b[0m 13.78   \u001b[0m |\n",
      "[LightGBM] [Warning] boosting is set=gbdt, boosting_type=gbdt will be ignored. Current value: boosting=gbdt\n",
      "| \u001b[0m 69      \u001b[0m | \u001b[0m-50.57   \u001b[0m | \u001b[0m 0.08268 \u001b[0m | \u001b[0m 20.22   \u001b[0m | \u001b[0m 20.93   \u001b[0m | \u001b[0m 548.2   \u001b[0m | \u001b[0m 18.63   \u001b[0m |\n",
      "[LightGBM] [Warning] boosting is set=gbdt, boosting_type=gbdt will be ignored. Current value: boosting=gbdt\n",
      "| \u001b[0m 70      \u001b[0m | \u001b[0m-51.08   \u001b[0m | \u001b[0m 0.07265 \u001b[0m | \u001b[0m 16.73   \u001b[0m | \u001b[0m 22.29   \u001b[0m | \u001b[0m 549.2   \u001b[0m | \u001b[0m 10.59   \u001b[0m |\n",
      "[LightGBM] [Warning] boosting is set=gbdt, boosting_type=gbdt will be ignored. Current value: boosting=gbdt\n",
      "| \u001b[95m 71      \u001b[0m | \u001b[95m-49.15   \u001b[0m | \u001b[95m 0.1038  \u001b[0m | \u001b[95m 29.25   \u001b[0m | \u001b[95m 14.78   \u001b[0m | \u001b[95m 550.0   \u001b[0m | \u001b[95m 13.24   \u001b[0m |\n",
      "[LightGBM] [Warning] boosting is set=gbdt, boosting_type=gbdt will be ignored. Current value: boosting=gbdt\n",
      "| \u001b[0m 72      \u001b[0m | \u001b[0m-51.85   \u001b[0m | \u001b[0m 0.05    \u001b[0m | \u001b[0m 24.02   \u001b[0m | \u001b[0m 18.56   \u001b[0m | \u001b[0m 548.3   \u001b[0m | \u001b[0m 12.9    \u001b[0m |\n",
      "[LightGBM] [Warning] boosting is set=gbdt, boosting_type=gbdt will be ignored. Current value: boosting=gbdt\n",
      "| \u001b[0m 73      \u001b[0m | \u001b[0m-52.17   \u001b[0m | \u001b[0m 0.07722 \u001b[0m | \u001b[0m 21.65   \u001b[0m | \u001b[0m 12.07   \u001b[0m | \u001b[0m 550.2   \u001b[0m | \u001b[0m 7.962   \u001b[0m |\n",
      "[LightGBM] [Warning] boosting is set=gbdt, boosting_type=gbdt will be ignored. Current value: boosting=gbdt\n",
      "| \u001b[0m 74      \u001b[0m | \u001b[0m-52.35   \u001b[0m | \u001b[0m 0.1385  \u001b[0m | \u001b[0m 33.13   \u001b[0m | \u001b[0m 9.811   \u001b[0m | \u001b[0m 553.2   \u001b[0m | \u001b[0m 17.47   \u001b[0m |\n",
      "[LightGBM] [Warning] boosting is set=gbdt, boosting_type=gbdt will be ignored. Current value: boosting=gbdt\n",
      "| \u001b[0m 75      \u001b[0m | \u001b[0m-50.76   \u001b[0m | \u001b[0m 0.15    \u001b[0m | \u001b[0m 24.98   \u001b[0m | \u001b[0m 10.83   \u001b[0m | \u001b[0m 552.6   \u001b[0m | \u001b[0m 14.84   \u001b[0m |\n",
      "[LightGBM] [Warning] boosting is set=gbdt, boosting_type=gbdt will be ignored. Current value: boosting=gbdt\n",
      "| \u001b[0m 76      \u001b[0m | \u001b[0m-50.48   \u001b[0m | \u001b[0m 0.09773 \u001b[0m | \u001b[0m 31.58   \u001b[0m | \u001b[0m 18.22   \u001b[0m | \u001b[0m 551.1   \u001b[0m | \u001b[0m 17.9    \u001b[0m |\n",
      "[LightGBM] [Warning] boosting is set=gbdt, boosting_type=gbdt will be ignored. Current value: boosting=gbdt\n",
      "| \u001b[0m 77      \u001b[0m | \u001b[0m-52.73   \u001b[0m | \u001b[0m 0.15    \u001b[0m | \u001b[0m 30.78   \u001b[0m | \u001b[0m 12.99   \u001b[0m | \u001b[0m 545.3   \u001b[0m | \u001b[0m 17.86   \u001b[0m |\n",
      "[LightGBM] [Warning] boosting is set=gbdt, boosting_type=gbdt will be ignored. Current value: boosting=gbdt\n",
      "| \u001b[0m 78      \u001b[0m | \u001b[0m-50.01   \u001b[0m | \u001b[0m 0.07309 \u001b[0m | \u001b[0m 16.31   \u001b[0m | \u001b[0m 17.69   \u001b[0m | \u001b[0m 550.3   \u001b[0m | \u001b[0m 18.03   \u001b[0m |\n",
      "[LightGBM] [Warning] boosting is set=gbdt, boosting_type=gbdt will be ignored. Current value: boosting=gbdt\n",
      "| \u001b[0m 79      \u001b[0m | \u001b[0m-51.93   \u001b[0m | \u001b[0m 0.05    \u001b[0m | \u001b[0m 28.25   \u001b[0m | \u001b[0m 17.5    \u001b[0m | \u001b[0m 556.3   \u001b[0m | \u001b[0m 13.32   \u001b[0m |\n",
      "[LightGBM] [Warning] boosting is set=gbdt, boosting_type=gbdt will be ignored. Current value: boosting=gbdt\n",
      "| \u001b[0m 80      \u001b[0m | \u001b[0m-51.4    \u001b[0m | \u001b[0m 0.148   \u001b[0m | \u001b[0m 20.63   \u001b[0m | \u001b[0m 27.61   \u001b[0m | \u001b[0m 553.3   \u001b[0m | \u001b[0m 16.49   \u001b[0m |\n",
      "[LightGBM] [Warning] boosting is set=gbdt, boosting_type=gbdt will be ignored. Current value: boosting=gbdt\n",
      "| \u001b[0m 81      \u001b[0m | \u001b[0m-53.26   \u001b[0m | \u001b[0m 0.15    \u001b[0m | \u001b[0m 27.49   \u001b[0m | \u001b[0m 25.15   \u001b[0m | \u001b[0m 550.5   \u001b[0m | \u001b[0m 20.52   \u001b[0m |\n",
      "[LightGBM] [Warning] boosting is set=gbdt, boosting_type=gbdt will be ignored. Current value: boosting=gbdt\n",
      "| \u001b[0m 82      \u001b[0m | \u001b[0m-52.05   \u001b[0m | \u001b[0m 0.05    \u001b[0m | \u001b[0m 13.07   \u001b[0m | \u001b[0m 17.46   \u001b[0m | \u001b[0m 555.0   \u001b[0m | \u001b[0m 12.24   \u001b[0m |\n",
      "[LightGBM] [Warning] boosting is set=gbdt, boosting_type=gbdt will be ignored. Current value: boosting=gbdt\n",
      "| \u001b[0m 83      \u001b[0m | \u001b[0m-50.91   \u001b[0m | \u001b[0m 0.1187  \u001b[0m | \u001b[0m 12.91   \u001b[0m | \u001b[0m 26.81   \u001b[0m | \u001b[0m 549.6   \u001b[0m | \u001b[0m 17.11   \u001b[0m |\n",
      "[LightGBM] [Warning] boosting is set=gbdt, boosting_type=gbdt will be ignored. Current value: boosting=gbdt\n",
      "| \u001b[0m 84      \u001b[0m | \u001b[0m-55.97   \u001b[0m | \u001b[0m 0.06643 \u001b[0m | \u001b[0m 28.52   \u001b[0m | \u001b[0m 13.77   \u001b[0m | \u001b[0m 553.8   \u001b[0m | \u001b[0m 6.053   \u001b[0m |\n",
      "[LightGBM] [Warning] boosting is set=gbdt, boosting_type=gbdt will be ignored. Current value: boosting=gbdt\n",
      "| \u001b[0m 85      \u001b[0m | \u001b[0m-51.56   \u001b[0m | \u001b[0m 0.1018  \u001b[0m | \u001b[0m 17.15   \u001b[0m | \u001b[0m 27.44   \u001b[0m | \u001b[0m 556.6   \u001b[0m | \u001b[0m 22.98   \u001b[0m |\n",
      "[LightGBM] [Warning] boosting is set=gbdt, boosting_type=gbdt will be ignored. Current value: boosting=gbdt\n",
      "| \u001b[0m 86      \u001b[0m | \u001b[0m-50.24   \u001b[0m | \u001b[0m 0.08456 \u001b[0m | \u001b[0m 13.07   \u001b[0m | \u001b[0m 35.08   \u001b[0m | \u001b[0m 554.8   \u001b[0m | \u001b[0m 17.25   \u001b[0m |\n",
      "[LightGBM] [Warning] boosting is set=gbdt, boosting_type=gbdt will be ignored. Current value: boosting=gbdt\n",
      "| \u001b[0m 87      \u001b[0m | \u001b[0m-50.25   \u001b[0m | \u001b[0m 0.144   \u001b[0m | \u001b[0m 8.926   \u001b[0m | \u001b[0m 27.18   \u001b[0m | \u001b[0m 555.5   \u001b[0m | \u001b[0m 11.92   \u001b[0m |\n",
      "[LightGBM] [Warning] boosting is set=gbdt, boosting_type=gbdt will be ignored. Current value: boosting=gbdt\n",
      "| \u001b[0m 88      \u001b[0m | \u001b[0m-49.94   \u001b[0m | \u001b[0m 0.08861 \u001b[0m | \u001b[0m 6.788   \u001b[0m | \u001b[0m 30.31   \u001b[0m | \u001b[0m 558.5   \u001b[0m | \u001b[0m 19.43   \u001b[0m |\n",
      "[LightGBM] [Warning] boosting is set=gbdt, boosting_type=gbdt will be ignored. Current value: boosting=gbdt\n",
      "| \u001b[0m 89      \u001b[0m | \u001b[0m-50.97   \u001b[0m | \u001b[0m 0.1462  \u001b[0m | \u001b[0m 6.793   \u001b[0m | \u001b[0m 32.46   \u001b[0m | \u001b[0m 549.6   \u001b[0m | \u001b[0m 18.46   \u001b[0m |\n",
      "[LightGBM] [Warning] boosting is set=gbdt, boosting_type=gbdt will be ignored. Current value: boosting=gbdt\n",
      "| \u001b[0m 90      \u001b[0m | \u001b[0m-50.48   \u001b[0m | \u001b[0m 0.1329  \u001b[0m | \u001b[0m 12.79   \u001b[0m | \u001b[0m 30.14   \u001b[0m | \u001b[0m 558.6   \u001b[0m | \u001b[0m 9.732   \u001b[0m |\n",
      "[LightGBM] [Warning] boosting is set=gbdt, boosting_type=gbdt will be ignored. Current value: boosting=gbdt\n",
      "| \u001b[0m 91      \u001b[0m | \u001b[0m-52.09   \u001b[0m | \u001b[0m 0.06634 \u001b[0m | \u001b[0m 10.42   \u001b[0m | \u001b[0m 31.35   \u001b[0m | \u001b[0m 550.2   \u001b[0m | \u001b[0m 11.27   \u001b[0m |\n",
      "[LightGBM] [Warning] boosting is set=gbdt, boosting_type=gbdt will be ignored. Current value: boosting=gbdt\n",
      "| \u001b[0m 92      \u001b[0m | \u001b[0m-52.79   \u001b[0m | \u001b[0m 0.05    \u001b[0m | \u001b[0m 17.06   \u001b[0m | \u001b[0m 24.38   \u001b[0m | \u001b[0m 557.5   \u001b[0m | \u001b[0m 12.11   \u001b[0m |\n",
      "[LightGBM] [Warning] boosting is set=gbdt, boosting_type=gbdt will be ignored. Current value: boosting=gbdt\n",
      "| \u001b[0m 93      \u001b[0m | \u001b[0m-50.22   \u001b[0m | \u001b[0m 0.1224  \u001b[0m | \u001b[0m 19.51   \u001b[0m | \u001b[0m 38.17   \u001b[0m | \u001b[0m 556.6   \u001b[0m | \u001b[0m 9.154   \u001b[0m |\n",
      "[LightGBM] [Warning] boosting is set=gbdt, boosting_type=gbdt will be ignored. Current value: boosting=gbdt\n",
      "| \u001b[0m 94      \u001b[0m | \u001b[0m-51.96   \u001b[0m | \u001b[0m 0.15    \u001b[0m | \u001b[0m 13.47   \u001b[0m | \u001b[0m 31.63   \u001b[0m | \u001b[0m 561.9   \u001b[0m | \u001b[0m 16.95   \u001b[0m |\n",
      "[LightGBM] [Warning] boosting is set=gbdt, boosting_type=gbdt will be ignored. Current value: boosting=gbdt\n",
      "| \u001b[0m 95      \u001b[0m | \u001b[0m-51.01   \u001b[0m | \u001b[0m 0.1074  \u001b[0m | \u001b[0m 6.645   \u001b[0m | \u001b[0m 34.67   \u001b[0m | \u001b[0m 561.8   \u001b[0m | \u001b[0m 9.96    \u001b[0m |\n",
      "[LightGBM] [Warning] boosting is set=gbdt, boosting_type=gbdt will be ignored. Current value: boosting=gbdt\n",
      "| \u001b[0m 96      \u001b[0m | \u001b[0m-50.49   \u001b[0m | \u001b[0m 0.15    \u001b[0m | \u001b[0m 5.432   \u001b[0m | \u001b[0m 35.81   \u001b[0m | \u001b[0m 555.9   \u001b[0m | \u001b[0m 14.77   \u001b[0m |\n"
     ]
    },
    {
     "name": "stdout",
     "output_type": "stream",
     "text": [
      "[LightGBM] [Warning] boosting is set=gbdt, boosting_type=gbdt will be ignored. Current value: boosting=gbdt\n",
      "| \u001b[0m 97      \u001b[0m | \u001b[0m-50.95   \u001b[0m | \u001b[0m 0.05492 \u001b[0m | \u001b[0m 15.92   \u001b[0m | \u001b[0m 41.61   \u001b[0m | \u001b[0m 560.8   \u001b[0m | \u001b[0m 17.13   \u001b[0m |\n",
      "[LightGBM] [Warning] boosting is set=gbdt, boosting_type=gbdt will be ignored. Current value: boosting=gbdt\n",
      "| \u001b[0m 98      \u001b[0m | \u001b[0m-49.87   \u001b[0m | \u001b[0m 0.1281  \u001b[0m | \u001b[0m 9.95    \u001b[0m | \u001b[0m 39.91   \u001b[0m | \u001b[0m 557.5   \u001b[0m | \u001b[0m 11.39   \u001b[0m |\n",
      "[LightGBM] [Warning] boosting is set=gbdt, boosting_type=gbdt will be ignored. Current value: boosting=gbdt\n",
      "| \u001b[0m 99      \u001b[0m | \u001b[0m-50.02   \u001b[0m | \u001b[0m 0.08216 \u001b[0m | \u001b[0m 7.812   \u001b[0m | \u001b[0m 42.09   \u001b[0m | \u001b[0m 560.7   \u001b[0m | \u001b[0m 21.39   \u001b[0m |\n",
      "[LightGBM] [Warning] boosting is set=gbdt, boosting_type=gbdt will be ignored. Current value: boosting=gbdt\n",
      "| \u001b[0m 100     \u001b[0m | \u001b[0m-49.56   \u001b[0m | \u001b[0m 0.1008  \u001b[0m | \u001b[0m 5.138   \u001b[0m | \u001b[0m 39.07   \u001b[0m | \u001b[0m 564.8   \u001b[0m | \u001b[0m 16.85   \u001b[0m |\n",
      "[LightGBM] [Warning] boosting is set=gbdt, boosting_type=gbdt will be ignored. Current value: boosting=gbdt\n",
      "| \u001b[0m 101     \u001b[0m | \u001b[0m-51.44   \u001b[0m | \u001b[0m 0.05    \u001b[0m | \u001b[0m 8.378   \u001b[0m | \u001b[0m 45.41   \u001b[0m | \u001b[0m 563.1   \u001b[0m | \u001b[0m 14.09   \u001b[0m |\n",
      "[LightGBM] [Warning] boosting is set=gbdt, boosting_type=gbdt will be ignored. Current value: boosting=gbdt\n",
      "| \u001b[0m 102     \u001b[0m | \u001b[0m-73.91   \u001b[0m | \u001b[0m 0.1302  \u001b[0m | \u001b[0m 1.569   \u001b[0m | \u001b[0m 38.76   \u001b[0m | \u001b[0m 558.3   \u001b[0m | \u001b[0m 23.9    \u001b[0m |\n",
      "=====================================================================================\n"
     ]
    }
   ],
   "source": [
    "bayesmodel4 = BayesianOptimization(f = model4_mape, pbounds = pbounds4, verbose = 2, random_state = 3)\n",
    "bayesmodel4.maximize(init_points=2, n_iter = 100)"
   ]
  },
  {
   "cell_type": "code",
   "execution_count": 162,
   "metadata": {},
   "outputs": [
    {
     "data": {
      "text/plain": [
       "<matplotlib.axes._subplots.AxesSubplot at 0x21b6506cbc8>"
      ]
     },
     "execution_count": 162,
     "metadata": {},
     "output_type": "execute_result"
    },
    {
     "data": {
      "image/png": "[encoded data removed]",
      "text/plain": [
       "<Figure size 432x288 with 1 Axes>"
      ]
     },
     "metadata": {
      "needs_background": "light"
     },
     "output_type": "display_data"
    }
   ],
   "source": [
    "feat_importances = pd.Series(model4.feature_importances_, index=X4_train.columns)\n",
    "feat_importances.sort_values(ascending = False).plot(kind='barh')"
   ]
  },
  {
   "cell_type": "code",
   "execution_count": 163,
   "metadata": {},
   "outputs": [
    {
     "name": "stdout",
     "output_type": "stream",
     "text": [
      "MSE : 22537.095857267766\n",
      "R squared : 0.8051548986978219\n",
      "49.23335620514385\n"
     ]
    }
   ],
   "source": [
    "y4_pred = model4.predict(X4_test)\n",
    "print (\"MSE :\", metrics.mean_squared_error(np.exp(y4_test), np.exp(y4_pred)))\n",
    "print(\"R squared :\", metrics.r2_score(np.exp(y4_test), np.exp(y4_pred)))\n",
    "print(mean_absolute_percentage_error(np.exp(y4_test), np.exp(y4_pred)))"
   ]
  },
  {
   "cell_type": "code",
   "execution_count": 164,
   "metadata": {},
   "outputs": [
    {
     "name": "stdout",
     "output_type": "stream",
     "text": [
      "MSE : 18634.26905215779\n",
      "R squared : 0.8603324039243598\n",
      "30.696630919755524\n"
     ]
    }
   ],
   "source": [
    "y4_train_pred = model4.predict(X4_train)\n",
    "print (\"MSE :\", metrics.mean_squared_error(np.exp(y4_train), np.exp(y4_train_pred)))\n",
    "print(\"R squared :\", metrics.r2_score(np.exp(y4_train), np.exp(y4_train_pred)))\n",
    "print(mean_absolute_percentage_error(np.exp(y4_train), np.exp(y4_train_pred)))"
   ]
  },
  {
   "cell_type": "code",
   "execution_count": 60,
   "metadata": {},
   "outputs": [
    {
     "name": "stdout",
     "output_type": "stream",
     "text": [
      "48.304920032120016\n",
      "26.045550434883708\n",
      "37.223523321693044\n",
      "45.11408225137925\n"
     ]
    },
    {
     "data": {
      "text/plain": [
       "40.08373151820037"
      ]
     },
     "execution_count": 60,
     "metadata": {},
     "output_type": "execute_result"
    }
   ],
   "source": [
    "print(mean_absolute_percentage_error(np.exp(y1_test), np.exp(y1_pred)))\n",
    "print(mean_absolute_percentage_error(np.exp(y2_test), np.exp(y2_pred)))\n",
    "print(mean_absolute_percentage_error(np.exp(y3_test), np.exp(y3_pred)))\n",
    "print(mean_absolute_percentage_error(np.exp(y4_test), np.exp(y4_pred)))\n",
    "\n",
    "\n",
    "a = mean_absolute_percentage_error(np.exp(y1_test), np.exp(y1_pred))\n",
    "b = mean_absolute_percentage_error(np.exp(y2_test), np.exp(y2_pred))\n",
    "c = mean_absolute_percentage_error(np.exp(y3_test), np.exp(y3_pred))\n",
    "d = mean_absolute_percentage_error(np.exp(y4_test), np.exp(y4_pred))\n",
    "(len(y1_test)*a + len(y2_test)*b + len(y3_test)*c + len(y4_test)*d) / (len(y1_test)+len(y2_test)+len(y3_test)+len(y4_test))"
   ]
  },
  {
   "cell_type": "markdown",
   "metadata": {},
   "source": [
    "## Prediction\n",
    "\n",
    "학습된 모델을 그룹별로 `df_test`에 적용, 예측, csv로 저장"
   ]
  },
  {
   "cell_type": "code",
   "execution_count": 61,
   "metadata": {},
   "outputs": [],
   "source": [
    "g1_test, g2_test, g3_test, g4_test = Spliting.return_g(df_test)"
   ]
  },
  {
   "cell_type": "code",
   "execution_count": 62,
   "metadata": {},
   "outputs": [],
   "source": [
    "month_list = [1,2,3,4,5,8,9,10,11,12]\n",
    "for i in month_list:\n",
    "    g1_test[f'month_{i}'] = 0\n",
    "    g2_test[f'month_{i}'] = 0    \n",
    "    g3_test[f'month_{i}'] = 0    \n",
    "    g4_test[f'month_{i}'] = 0    "
   ]
  },
  {
   "cell_type": "code",
   "execution_count": 63,
   "metadata": {},
   "outputs": [],
   "source": [
    "g1_test = g1_test[g1.columns]\n",
    "g2_test = g2_test[g2.columns]\n",
    "g3_test = g3_test[g3.columns]\n",
    "g4_test = g4_test[g4.columns]"
   ]
  },
  {
   "cell_type": "code",
   "execution_count": 64,
   "metadata": {},
   "outputs": [],
   "source": [
    "g1_test = g1_test.drop('log_sales_cnt', axis=1)\n",
    "g2_test = g2_test.drop('log_sales_cnt', axis=1)\n",
    "g3_test = g3_test.drop('log_sales_cnt', axis=1)\n",
    "g4_test = g4_test.drop('log_sales_cnt', axis=1)"
   ]
  },
  {
   "cell_type": "code",
   "execution_count": 65,
   "metadata": {
    "scrolled": true
   },
   "outputs": [
    {
     "ename": "NameError",
     "evalue": "name 'pipe_model1' is not defined",
     "output_type": "error",
     "traceback": [
      "\u001b[1;31m---------------------------------------------------------------------------\u001b[0m",
      "\u001b[1;31mNameError\u001b[0m                                 Traceback (most recent call last)",
      "\u001b[1;32m<ipython-input-65-9e05ba5bc4d1>\u001b[0m in \u001b[0;36m<module>\u001b[1;34m\u001b[0m\n\u001b[1;32m----> 1\u001b[1;33m \u001b[0mg1_pred\u001b[0m \u001b[1;33m=\u001b[0m \u001b[0mpipe_model1\u001b[0m\u001b[1;33m.\u001b[0m\u001b[0mpredict\u001b[0m\u001b[1;33m(\u001b[0m\u001b[0mg1_test\u001b[0m\u001b[1;33m)\u001b[0m\u001b[1;33m\u001b[0m\u001b[1;33m\u001b[0m\u001b[0m\n\u001b[0m\u001b[0;32m      2\u001b[0m \u001b[0mg2_pred\u001b[0m \u001b[1;33m=\u001b[0m \u001b[0mpipe_model2\u001b[0m\u001b[1;33m.\u001b[0m\u001b[0mpredict\u001b[0m\u001b[1;33m(\u001b[0m\u001b[0mg2_test\u001b[0m\u001b[1;33m)\u001b[0m\u001b[1;33m\u001b[0m\u001b[1;33m\u001b[0m\u001b[0m\n\u001b[0;32m      3\u001b[0m \u001b[0mg3_pred\u001b[0m \u001b[1;33m=\u001b[0m \u001b[0mpipe_model3\u001b[0m\u001b[1;33m.\u001b[0m\u001b[0mpredict\u001b[0m\u001b[1;33m(\u001b[0m\u001b[0mg3_test\u001b[0m\u001b[1;33m)\u001b[0m\u001b[1;33m\u001b[0m\u001b[1;33m\u001b[0m\u001b[0m\n\u001b[0;32m      4\u001b[0m \u001b[0mg4_pred\u001b[0m \u001b[1;33m=\u001b[0m \u001b[0mpipe_model4\u001b[0m\u001b[1;33m.\u001b[0m\u001b[0mpredict\u001b[0m\u001b[1;33m(\u001b[0m\u001b[0mg4_test\u001b[0m\u001b[1;33m)\u001b[0m\u001b[1;33m\u001b[0m\u001b[1;33m\u001b[0m\u001b[0m\n",
      "\u001b[1;31mNameError\u001b[0m: name 'pipe_model1' is not defined"
     ]
    }
   ],
   "source": [
    "g1_pred = pipe_model1.predict(g1_test)\n",
    "g2_pred = pipe_model2.predict(g2_test)\n",
    "g3_pred = pipe_model3.predict(g3_test)\n",
    "g4_pred = pipe_model4.predict(g4_test)"
   ]
  },
  {
   "cell_type": "code",
   "execution_count": null,
   "metadata": {},
   "outputs": [],
   "source": [
    "g1_test['answer'] = np.exp(g1_pred)\n",
    "g2_test['answer'] = np.exp(g2_pred)\n",
    "g3_test['answer'] = np.exp(g3_pred)\n",
    "g4_test['answer'] = np.exp(g4_pred)"
   ]
  },
  {
   "cell_type": "code",
   "execution_count": null,
   "metadata": {},
   "outputs": [],
   "source": [
    "final_answer = pd.concat([g1_test, g2_test, g3_test, g4_test]).sort_index().answer"
   ]
  },
  {
   "cell_type": "code",
   "execution_count": null,
   "metadata": {},
   "outputs": [],
   "source": [
    "df_test['answer'] = final_answer"
   ]
  },
  {
   "cell_type": "code",
   "execution_count": null,
   "metadata": {},
   "outputs": [],
   "source": [
    "df_test[['datetime', 'exposure(min)', 'mother_cd', 'product_cd', 'product_name', 'product_grp', 'unit_price', 'answer']].head(50)"
   ]
  },
  {
   "cell_type": "code",
   "execution_count": null,
   "metadata": {},
   "outputs": [],
   "source": []
  },
  {
   "cell_type": "code",
   "execution_count": null,
   "metadata": {},
   "outputs": [],
   "source": []
  }
 ],
 "metadata": {
  "kernelspec": {
   "display_name": "Python 3",
   "language": "python",
   "name": "python3"
  },
  "language_info": {
   "codemirror_mode": {
    "name": "ipython",
    "version": 3
   },
   "file_extension": ".py",
   "mimetype": "text/x-python",
   "name": "python",
   "nbconvert_exporter": "python",
   "pygments_lexer": "ipython3",
   "version": "3.7.4"
  }
 },
 "nbformat": 4,
 "nbformat_minor": 4
}
