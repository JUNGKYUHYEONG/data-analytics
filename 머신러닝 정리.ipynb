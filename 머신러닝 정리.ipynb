{
 "cells": [
  {
   "cell_type": "markdown",
   "metadata": {},
   "source": [
    "# K-means 아이리스 데이터 셋"
   ]
  },
  {
   "cell_type": "code",
   "execution_count": null,
   "metadata": {},
   "outputs": [],
   "source": [
    "from sklearn.cluster import KMeans\n",
    "from sklearn import datasets\n",
    "from sklearn.pipeline import make_pipeline\n",
    "from sklearn.preprocessing import StandardScaler\n",
    "import matplotlib.pyplot  as plt\n",
    "import seaborn as sns\n",
    "import pandas as pd\n",
    "import numpy as np\n",
    "\n",
    "iris = datasets.load_iris()\n",
    "\n",
    "labels = pd.DataFrame(iris.target)\n",
    "labels.columns=['labels']\n",
    "data = pd.DataFrame(iris.data)\n",
    "data.columns=['Sepal length','Sepal width','Petal length','Petal width']\n",
    "data = pd.concat([data,labels],axis=1)\n",
    "\n",
    "data.head()"
   ]
  },
  {
   "cell_type": "code",
   "execution_count": null,
   "metadata": {},
   "outputs": [],
   "source": [
    "feature = data[ ['Sepal length','Sepal width']]\n",
    "feature.head()"
   ]
  },
  {
   "cell_type": "code",
   "execution_count": null,
   "metadata": {},
   "outputs": [],
   "source": [
    "ks = range(1,10)\n",
    "inertias = []\n",
    "\n",
    "for k in ks:\n",
    "    model = KMeans(n_clusters=k, algorithm='auto')\n",
    "    model.fit(feature)\n",
    "    inertias.append(model.inertia_)\n",
    "    \n",
    "inertias"
   ]
  },
  {
   "cell_type": "code",
   "execution_count": null,
   "metadata": {},
   "outputs": [],
   "source": [
    "# Plot ks vs inertias\n",
    "plt.plot(ks, inertias, '-o')\n",
    "plt.xlabel('number of clusters, k')\n",
    "plt.ylabel('SSE')\n",
    "plt.xticks(ks)\n",
    "plt.show()"
   ]
  },
  {
   "cell_type": "code",
   "execution_count": null,
   "metadata": {},
   "outputs": [],
   "source": [
    "# create model and prediction\n",
    "model1 = KMeans(n_clusters=3,algorithm='auto')\n",
    "model1.fit(feature)\n",
    "predict = pd.DataFrame(model1.predict(feature))\n",
    "predict.columns=['predict']\n",
    "\n",
    "# concatenate labels to df as a new column\n",
    "r = pd.concat([feature,predict],axis=1)\n",
    "\n",
    "print(r)"
   ]
  },
  {
   "cell_type": "code",
   "execution_count": null,
   "metadata": {},
   "outputs": [],
   "source": [
    "# create model and prediction\n",
    "model1 = KMeans(n_clusters=3,algorithm='auto')\n",
    "model1.fit(feature)\n",
    "predict = pd.DataFrame(model1.predict(feature))\n",
    "predict.columns=['predict']\n",
    "\n",
    "# concatenate labels to df as a new column\n",
    "r = pd.concat([feature,predict],axis=1)\n",
    "\n",
    "print(r)"
   ]
  },
  {
   "cell_type": "code",
   "execution_count": null,
   "metadata": {},
   "outputs": [],
   "source": [
    "ct = pd.crosstab(data['labels'],r['predict'])\n",
    "ct"
   ]
  },
  {
   "cell_type": "code",
   "execution_count": null,
   "metadata": {},
   "outputs": [],
   "source": [
    "scaler = StandardScaler()\n",
    "model2= KMeans(n_clusters=3)\n",
    "pipeline = make_pipeline(scaler,model2)\n",
    "pipeline.fit(feature)\n",
    "predict = pd.DataFrame(pipeline.predict(feature))\n",
    "predict.columns=['predict']\n",
    "\n",
    "# concatenate labels to df as a new column\n",
    "r = pd.concat([feature,predict],axis=1)\n",
    "\n",
    "ct = pd.crosstab(data['labels'],r['predict'])\n",
    "ct"
   ]
  },
  {
   "cell_type": "markdown",
   "metadata": {},
   "source": [
    "# 데이터 셋 나눌 때 사용"
   ]
  },
  {
   "cell_type": "code",
   "execution_count": null,
   "metadata": {},
   "outputs": [],
   "source": [
    "import sklearn.datasets as d\n",
    "import sklearn.svm as svm\n",
    "import sklearn.model_selection as ms\n",
    "import sklearn.metrics as mt\n",
    "import numpy as np\n",
    "import pandas as pd\n",
    "X_train, X_test, y_train, y_test = \\\n",
    "ms.train_test_split(X, y, test_size=0.3, random_state = 29)\n",
    "#svm 사용해서 예측\n",
    "#clf = svm.SVC(kernel = 'linear').fit(X_train,y_train)\n",
    "#y_pred = clf.predict(X_test)\n",
    "#mt.accuracy_score(y_test,y_pred)"
   ]
  },
  {
   "cell_type": "code",
   "execution_count": null,
   "metadata": {},
   "outputs": [],
   "source": []
  },
  {
   "cell_type": "code",
   "execution_count": null,
   "metadata": {},
   "outputs": [],
   "source": []
  },
  {
   "cell_type": "code",
   "execution_count": null,
   "metadata": {},
   "outputs": [],
   "source": []
  }
 ],
 "metadata": {
  "kernelspec": {
   "display_name": "Python 3",
   "language": "python",
   "name": "python3"
  },
  "language_info": {
   "codemirror_mode": {
    "name": "ipython",
    "version": 3
   },
   "file_extension": ".py",
   "mimetype": "text/x-python",
   "name": "python",
   "nbconvert_exporter": "python",
   "pygments_lexer": "ipython3",
   "version": "3.7.4"
  }
 },
 "nbformat": 4,
 "nbformat_minor": 2
}
