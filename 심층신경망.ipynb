{
 "cells": [
  {
   "cell_type": "code",
   "execution_count": 1,
   "metadata": {},
   "outputs": [],
   "source": [
    "import keras"
   ]
  },
  {
   "cell_type": "code",
   "execution_count": 2,
   "metadata": {},
   "outputs": [],
   "source": [
    "from sklearn.datasets import load_iris\n",
    "iris=load_iris()\n",
    "X, y = iris.data, iris.target"
   ]
  },
  {
   "cell_type": "code",
   "execution_count": 3,
   "metadata": {},
   "outputs": [],
   "source": [
    "from keras.utils import to_categorical\n",
    "y=to_categorical(y,3)"
   ]
  },
  {
   "cell_type": "code",
   "execution_count": 4,
   "metadata": {},
   "outputs": [],
   "source": [
    "from sklearn.model_selection import train_test_split\n",
    "X_train,X_test,y_train,y_test=train_test_split(X,y,test_size=0.3,random_state=0)"
   ]
  },
  {
   "cell_type": "code",
   "execution_count": 5,
   "metadata": {},
   "outputs": [],
   "source": [
    "from keras.models import Sequential\n",
    "from keras.layers import Dense\n",
    "\n",
    "model= Sequential()\n",
    "model.add(Dense(units=8, input_dim=4,kernel_initializer='uniform',\n",
    "               activation='relu')) #은닉층\n",
    "model.add(Dense(units=3,activation='softmax')) #출력층 "
   ]
  },
  {
   "cell_type": "code",
   "execution_count": 6,
   "metadata": {},
   "outputs": [],
   "source": [
    "model.compile(loss = 'categorical_crossentropy',\n",
    "             optimizer='adam',metrics=['accuracy'])"
   ]
  },
  {
   "cell_type": "code",
   "execution_count": 7,
   "metadata": {},
   "outputs": [
    {
     "name": "stdout",
     "output_type": "stream",
     "text": [
      "Epoch 1/100\n",
      "11/11 - 0s - loss: 1.0845 - accuracy: 0.3714\n",
      "Epoch 2/100\n",
      "11/11 - 0s - loss: 1.0652 - accuracy: 0.3714\n",
      "Epoch 3/100\n",
      "11/11 - 0s - loss: 1.0488 - accuracy: 0.3714\n",
      "Epoch 4/100\n",
      "11/11 - 0s - loss: 1.0338 - accuracy: 0.4095\n",
      "Epoch 5/100\n",
      "11/11 - 0s - loss: 1.0179 - accuracy: 0.5619\n",
      "Epoch 6/100\n",
      "11/11 - 0s - loss: 1.0028 - accuracy: 0.6571\n",
      "Epoch 7/100\n",
      "11/11 - 0s - loss: 0.9861 - accuracy: 0.6857\n",
      "Epoch 8/100\n",
      "11/11 - 0s - loss: 0.9703 - accuracy: 0.6952\n",
      "Epoch 9/100\n",
      "11/11 - 0s - loss: 0.9540 - accuracy: 0.6952\n",
      "Epoch 10/100\n",
      "11/11 - 0s - loss: 0.9366 - accuracy: 0.6952\n",
      "Epoch 11/100\n",
      "11/11 - 0s - loss: 0.9197 - accuracy: 0.6952\n",
      "Epoch 12/100\n",
      "11/11 - 0s - loss: 0.9016 - accuracy: 0.6952\n",
      "Epoch 13/100\n",
      "11/11 - 0s - loss: 0.8839 - accuracy: 0.6952\n",
      "Epoch 14/100\n",
      "11/11 - 0s - loss: 0.8666 - accuracy: 0.6952\n",
      "Epoch 15/100\n",
      "11/11 - 0s - loss: 0.8481 - accuracy: 0.6952\n",
      "Epoch 16/100\n",
      "11/11 - 0s - loss: 0.8299 - accuracy: 0.6952\n",
      "Epoch 17/100\n",
      "11/11 - 0s - loss: 0.8128 - accuracy: 0.6952\n",
      "Epoch 18/100\n",
      "11/11 - 0s - loss: 0.7954 - accuracy: 0.6952\n",
      "Epoch 19/100\n",
      "11/11 - 0s - loss: 0.7775 - accuracy: 0.6952\n",
      "Epoch 20/100\n",
      "11/11 - 0s - loss: 0.7613 - accuracy: 0.6952\n",
      "Epoch 21/100\n",
      "11/11 - 0s - loss: 0.7444 - accuracy: 0.6952\n",
      "Epoch 22/100\n",
      "11/11 - 0s - loss: 0.7297 - accuracy: 0.6952\n",
      "Epoch 23/100\n",
      "11/11 - 0s - loss: 0.7145 - accuracy: 0.6952\n",
      "Epoch 24/100\n",
      "11/11 - 0s - loss: 0.6989 - accuracy: 0.6952\n",
      "Epoch 25/100\n",
      "11/11 - 0s - loss: 0.6850 - accuracy: 0.6952\n",
      "Epoch 26/100\n",
      "11/11 - 0s - loss: 0.6709 - accuracy: 0.6952\n",
      "Epoch 27/100\n",
      "11/11 - 0s - loss: 0.6582 - accuracy: 0.6952\n",
      "Epoch 28/100\n",
      "11/11 - 0s - loss: 0.6457 - accuracy: 0.6952\n",
      "Epoch 29/100\n",
      "11/11 - 0s - loss: 0.6332 - accuracy: 0.6952\n",
      "Epoch 30/100\n",
      "11/11 - 0s - loss: 0.6219 - accuracy: 0.6952\n",
      "Epoch 31/100\n",
      "11/11 - 0s - loss: 0.6108 - accuracy: 0.6952\n",
      "Epoch 32/100\n",
      "11/11 - 0s - loss: 0.6004 - accuracy: 0.6952\n",
      "Epoch 33/100\n",
      "11/11 - 0s - loss: 0.5909 - accuracy: 0.6952\n",
      "Epoch 34/100\n",
      "11/11 - 0s - loss: 0.5809 - accuracy: 0.6952\n",
      "Epoch 35/100\n",
      "11/11 - 0s - loss: 0.5714 - accuracy: 0.6952\n",
      "Epoch 36/100\n",
      "11/11 - 0s - loss: 0.5629 - accuracy: 0.6952\n",
      "Epoch 37/100\n",
      "11/11 - 0s - loss: 0.5545 - accuracy: 0.6952\n",
      "Epoch 38/100\n",
      "11/11 - 0s - loss: 0.5469 - accuracy: 0.7048\n",
      "Epoch 39/100\n",
      "11/11 - 0s - loss: 0.5385 - accuracy: 0.7143\n",
      "Epoch 40/100\n",
      "11/11 - 0s - loss: 0.5315 - accuracy: 0.7048\n",
      "Epoch 41/100\n",
      "11/11 - 0s - loss: 0.5247 - accuracy: 0.7143\n",
      "Epoch 42/100\n",
      "11/11 - 0s - loss: 0.5185 - accuracy: 0.7143\n",
      "Epoch 43/100\n",
      "11/11 - 0s - loss: 0.5107 - accuracy: 0.7143\n",
      "Epoch 44/100\n",
      "11/11 - 0s - loss: 0.5035 - accuracy: 0.7143\n",
      "Epoch 45/100\n",
      "11/11 - 0s - loss: 0.4974 - accuracy: 0.7429\n",
      "Epoch 46/100\n",
      "11/11 - 0s - loss: 0.4916 - accuracy: 0.7524\n",
      "Epoch 47/100\n",
      "11/11 - 0s - loss: 0.4853 - accuracy: 0.7524\n",
      "Epoch 48/100\n",
      "11/11 - 0s - loss: 0.4801 - accuracy: 0.7429\n",
      "Epoch 49/100\n",
      "11/11 - 0s - loss: 0.4741 - accuracy: 0.7429\n",
      "Epoch 50/100\n",
      "11/11 - 0s - loss: 0.4694 - accuracy: 0.8000\n",
      "Epoch 51/100\n",
      "11/11 - 0s - loss: 0.4633 - accuracy: 0.8190\n",
      "Epoch 52/100\n",
      "11/11 - 0s - loss: 0.4582 - accuracy: 0.7810\n",
      "Epoch 53/100\n",
      "11/11 - 0s - loss: 0.4531 - accuracy: 0.8190\n",
      "Epoch 54/100\n",
      "11/11 - 0s - loss: 0.4484 - accuracy: 0.8286\n",
      "Epoch 55/100\n",
      "11/11 - 0s - loss: 0.4434 - accuracy: 0.8476\n",
      "Epoch 56/100\n",
      "11/11 - 0s - loss: 0.4397 - accuracy: 0.8190\n",
      "Epoch 57/100\n",
      "11/11 - 0s - loss: 0.4342 - accuracy: 0.8476\n",
      "Epoch 58/100\n",
      "11/11 - 0s - loss: 0.4294 - accuracy: 0.8667\n",
      "Epoch 59/100\n",
      "11/11 - 0s - loss: 0.4249 - accuracy: 0.8667\n",
      "Epoch 60/100\n",
      "11/11 - 0s - loss: 0.4206 - accuracy: 0.8762\n",
      "Epoch 61/100\n",
      "11/11 - 0s - loss: 0.4162 - accuracy: 0.8762\n",
      "Epoch 62/100\n",
      "11/11 - 0s - loss: 0.4122 - accuracy: 0.8762\n",
      "Epoch 63/100\n",
      "11/11 - 0s - loss: 0.4088 - accuracy: 0.8667\n",
      "Epoch 64/100\n",
      "11/11 - 0s - loss: 0.4048 - accuracy: 0.8952\n",
      "Epoch 65/100\n",
      "11/11 - 0s - loss: 0.4001 - accuracy: 0.9143\n",
      "Epoch 66/100\n",
      "11/11 - 0s - loss: 0.3965 - accuracy: 0.8857\n",
      "Epoch 67/100\n",
      "11/11 - 0s - loss: 0.3927 - accuracy: 0.8762\n",
      "Epoch 68/100\n",
      "11/11 - 0s - loss: 0.3886 - accuracy: 0.8762\n",
      "Epoch 69/100\n",
      "11/11 - 0s - loss: 0.3856 - accuracy: 0.8762\n",
      "Epoch 70/100\n",
      "11/11 - 0s - loss: 0.3812 - accuracy: 0.8952\n",
      "Epoch 71/100\n",
      "11/11 - 0s - loss: 0.3777 - accuracy: 0.9143\n",
      "Epoch 72/100\n",
      "11/11 - 0s - loss: 0.3744 - accuracy: 0.9429\n",
      "Epoch 73/100\n",
      "11/11 - 0s - loss: 0.3698 - accuracy: 0.9333\n",
      "Epoch 74/100\n",
      "11/11 - 0s - loss: 0.3670 - accuracy: 0.9429\n",
      "Epoch 75/100\n",
      "11/11 - 0s - loss: 0.3628 - accuracy: 0.9524\n",
      "Epoch 76/100\n",
      "11/11 - 0s - loss: 0.3597 - accuracy: 0.9429\n",
      "Epoch 77/100\n",
      "11/11 - 0s - loss: 0.3570 - accuracy: 0.9524\n",
      "Epoch 78/100\n",
      "11/11 - 0s - loss: 0.3529 - accuracy: 0.9524\n",
      "Epoch 79/100\n",
      "11/11 - 0s - loss: 0.3497 - accuracy: 0.9429\n",
      "Epoch 80/100\n",
      "11/11 - 0s - loss: 0.3467 - accuracy: 0.9429\n",
      "Epoch 81/100\n",
      "11/11 - 0s - loss: 0.3427 - accuracy: 0.9524\n",
      "Epoch 82/100\n",
      "11/11 - 0s - loss: 0.3401 - accuracy: 0.9619\n",
      "Epoch 83/100\n",
      "11/11 - 0s - loss: 0.3368 - accuracy: 0.9524\n",
      "Epoch 84/100\n",
      "11/11 - 0s - loss: 0.3336 - accuracy: 0.9619\n",
      "Epoch 85/100\n",
      "11/11 - 0s - loss: 0.3304 - accuracy: 0.9619\n",
      "Epoch 86/100\n",
      "11/11 - 0s - loss: 0.3279 - accuracy: 0.9619\n",
      "Epoch 87/100\n",
      "11/11 - 0s - loss: 0.3247 - accuracy: 0.9619\n",
      "Epoch 88/100\n",
      "11/11 - 0s - loss: 0.3214 - accuracy: 0.9619\n",
      "Epoch 89/100\n",
      "11/11 - 0s - loss: 0.3191 - accuracy: 0.9619\n",
      "Epoch 90/100\n",
      "11/11 - 0s - loss: 0.3148 - accuracy: 0.9619\n",
      "Epoch 91/100\n",
      "11/11 - 0s - loss: 0.3128 - accuracy: 0.9619\n",
      "Epoch 92/100\n",
      "11/11 - 0s - loss: 0.3091 - accuracy: 0.9619\n",
      "Epoch 93/100\n",
      "11/11 - 0s - loss: 0.3061 - accuracy: 0.9619\n",
      "Epoch 94/100\n",
      "11/11 - 0s - loss: 0.3031 - accuracy: 0.9619\n",
      "Epoch 95/100\n",
      "11/11 - 0s - loss: 0.3000 - accuracy: 0.9619\n",
      "Epoch 96/100\n",
      "11/11 - 0s - loss: 0.2979 - accuracy: 0.9619\n",
      "Epoch 97/100\n",
      "11/11 - 0s - loss: 0.2951 - accuracy: 0.9619\n",
      "Epoch 98/100\n",
      "11/11 - 0s - loss: 0.2922 - accuracy: 0.9619\n",
      "Epoch 99/100\n",
      "11/11 - 0s - loss: 0.2897 - accuracy: 0.9619\n",
      "Epoch 100/100\n",
      "11/11 - 0s - loss: 0.2877 - accuracy: 0.9619\n"
     ]
    },
    {
     "data": {
      "text/plain": [
       "<tensorflow.python.keras.callbacks.History at 0x194ef598348>"
      ]
     },
     "execution_count": 7,
     "metadata": {},
     "output_type": "execute_result"
    }
   ],
   "source": [
    "model.fit(X_train,y_train, epochs=100,batch_size=10,verbose=2)"
   ]
  },
  {
   "cell_type": "code",
   "execution_count": 8,
   "metadata": {},
   "outputs": [],
   "source": [
    "hist=model.fit(X_train,y_train,verbose=0)"
   ]
  },
  {
   "cell_type": "code",
   "execution_count": 9,
   "metadata": {},
   "outputs": [
    {
     "data": {
      "text/plain": [
       "[0.961904764175415]"
      ]
     },
     "execution_count": 9,
     "metadata": {},
     "output_type": "execute_result"
    }
   ],
   "source": [
    "hist.history['accuracy']"
   ]
  },
  {
   "cell_type": "code",
   "execution_count": 10,
   "metadata": {},
   "outputs": [
    {
     "data": {
      "text/plain": [
       "[0.28527596592903137]"
      ]
     },
     "execution_count": 10,
     "metadata": {},
     "output_type": "execute_result"
    }
   ],
   "source": [
    "hist.history['loss']"
   ]
  },
  {
   "cell_type": "code",
   "execution_count": 11,
   "metadata": {},
   "outputs": [
    {
     "name": "stdout",
     "output_type": "stream",
     "text": [
      "2/2 [==============================] - 0s 2ms/step - loss: 0.3238 - accuracy: 0.9556\n"
     ]
    }
   ],
   "source": [
    "loss,acc=model.evaluate(X_test, y_test)"
   ]
  },
  {
   "cell_type": "code",
   "execution_count": 12,
   "metadata": {},
   "outputs": [
    {
     "name": "stdout",
     "output_type": "stream",
     "text": [
      "0.3237845301628113\n",
      "0.9555555582046509\n"
     ]
    }
   ],
   "source": [
    "print(loss)\n",
    "print(acc)"
   ]
  },
  {
   "cell_type": "code",
   "execution_count": 13,
   "metadata": {},
   "outputs": [],
   "source": [
    "from numpy.random import random\n",
    "from numpy import round\n",
    "import numpy as np"
   ]
  },
  {
   "cell_type": "code",
   "execution_count": 14,
   "metadata": {},
   "outputs": [
    {
     "name": "stdout",
     "output_type": "stream",
     "text": [
      "[[4.76 1.6  8.17 9.46]\n",
      " [3.99 7.33 8.92 6.94]\n",
      " [9.7  1.05 0.97 7.75]]\n"
     ]
    }
   ],
   "source": [
    "X_new=round(random([3,4])*10,2)\n",
    "print(X_new)"
   ]
  },
  {
   "cell_type": "code",
   "execution_count": 15,
   "metadata": {},
   "outputs": [
    {
     "data": {
      "text/plain": [
       "<tf.Tensor: shape=(3, 3), dtype=float32, numpy=\n",
       "array([[5.10029741e-10, 2.12535937e-03, 9.97874618e-01],\n",
       "       [2.00276816e-07, 1.27113005e-02, 9.87288475e-01],\n",
       "       [7.35677804e-06, 3.39259319e-02, 9.66066658e-01]], dtype=float32)>"
      ]
     },
     "execution_count": 15,
     "metadata": {},
     "output_type": "execute_result"
    }
   ],
   "source": [
    "y_pred=model(X_new)\n",
    "y_pred"
   ]
  },
  {
   "cell_type": "code",
   "execution_count": 16,
   "metadata": {},
   "outputs": [
    {
     "name": "stdout",
     "output_type": "stream",
     "text": [
      "WARNING:tensorflow:From <ipython-input-16-6bf56152c3ed>:1: Sequential.predict_classes (from tensorflow.python.keras.engine.sequential) is deprecated and will be removed after 2021-01-01.\n",
      "Instructions for updating:\n",
      "Please use instead:* `np.argmax(model.predict(x), axis=-1)`,   if your model does multi-class classification   (e.g. if it uses a `softmax` last-layer activation).* `(model.predict(x) > 0.5).astype(\"int32\")`,   if your model does binary classification   (e.g. if it uses a `sigmoid` last-layer activation).\n",
      "[2 2 2]\n"
     ]
    }
   ],
   "source": [
    "y_pred_class=model.predict_classes(X_new)\n",
    "print(y_pred_class)"
   ]
  },
  {
   "cell_type": "code",
   "execution_count": 17,
   "metadata": {},
   "outputs": [],
   "source": [
    "import sklearn.datasets as d\n",
    "minist = d.fetch_openml('mnist_784', version=1)"
   ]
  },
  {
   "cell_type": "code",
   "execution_count": 18,
   "metadata": {},
   "outputs": [],
   "source": [
    "X = minist.data\n",
    "y = minist.target"
   ]
  },
  {
   "cell_type": "code",
   "execution_count": 19,
   "metadata": {},
   "outputs": [
    {
     "data": {
      "text/plain": [
       "array(['0', '1', '2', '3', '4', '5', '6', '7', '8', '9'], dtype=object)"
      ]
     },
     "execution_count": 19,
     "metadata": {},
     "output_type": "execute_result"
    }
   ],
   "source": [
    "np.unique(y)"
   ]
  },
  {
   "cell_type": "code",
   "execution_count": 20,
   "metadata": {},
   "outputs": [],
   "source": [
    "y=y.astype(np.int)"
   ]
  },
  {
   "cell_type": "code",
   "execution_count": 21,
   "metadata": {},
   "outputs": [
    {
     "data": {
      "text/plain": [
       "array([0, 1, 2, 3, 4, 5, 6, 7, 8, 9])"
      ]
     },
     "execution_count": 21,
     "metadata": {},
     "output_type": "execute_result"
    }
   ],
   "source": [
    "np.unique(y)"
   ]
  },
  {
   "cell_type": "code",
   "execution_count": 22,
   "metadata": {},
   "outputs": [],
   "source": [
    "import matplotlib.pyplot as plt\n",
    "%matplotlib inline\n",
    "\n",
    "px = np.array(X[0], dtype=\"uint8\").reshape((28,28))"
   ]
  },
  {
   "cell_type": "code",
   "execution_count": 23,
   "metadata": {},
   "outputs": [
    {
     "name": "stdout",
     "output_type": "stream",
     "text": [
      "label:  5\n"
     ]
    },
    {
     "data": {
      "image/png": "[encoded data removed]",
      "text/plain": [
       "<Figure size 432x288 with 1 Axes>"
      ]
     },
     "metadata": {
      "needs_background": "light"
     },
     "output_type": "display_data"
    }
   ],
   "source": [
    "plt.imshow(px, cmap='gray')\n",
    "print(\"label: \",y[0])"
   ]
  },
  {
   "cell_type": "code",
   "execution_count": 24,
   "metadata": {},
   "outputs": [],
   "source": [
    "from keras.utils import to_categorical\n",
    "y = to_categorical(y, 10)"
   ]
  },
  {
   "cell_type": "code",
   "execution_count": 25,
   "metadata": {},
   "outputs": [],
   "source": [
    "X_train,X_test,y_train,y_test=train_test_split(X,y,test_size=0.3,random_state=1)"
   ]
  },
  {
   "cell_type": "code",
   "execution_count": 26,
   "metadata": {},
   "outputs": [],
   "source": [
    "from keras.models import Sequential\n",
    "from keras.layers import Dense"
   ]
  },
  {
   "cell_type": "code",
   "execution_count": 27,
   "metadata": {},
   "outputs": [],
   "source": [
    "model=Sequential()\n",
    "model.add(Dense(units = 60, input_dim=784,activation=\"relu\"))\n",
    "model.add(Dense(units = 30,activation=\"relu\"))\n",
    "model.add(Dense(units = 15,activation=\"relu\"))\n",
    "model.add(Dense(units=10,activation='softmax'))"
   ]
  },
  {
   "cell_type": "code",
   "execution_count": 28,
   "metadata": {},
   "outputs": [],
   "source": [
    "from keras.optimizers import Adam\n",
    "model.compile(loss = 'categorical_crossentropy',\n",
    "             optimizer=Adam(lr=0.002),metrics=['accuracy'])"
   ]
  },
  {
   "cell_type": "code",
   "execution_count": 29,
   "metadata": {},
   "outputs": [
    {
     "name": "stdout",
     "output_type": "stream",
     "text": [
      "Epoch 1/10\n",
      "49/49 - 0s - loss: 6.3008 - accuracy: 0.2251\n",
      "Epoch 2/10\n",
      "49/49 - 0s - loss: 1.6090 - accuracy: 0.4411\n",
      "Epoch 3/10\n",
      "49/49 - 0s - loss: 1.1330 - accuracy: 0.6543\n",
      "Epoch 4/10\n",
      "49/49 - 0s - loss: 0.9316 - accuracy: 0.7212\n",
      "Epoch 5/10\n",
      "49/49 - 1s - loss: 0.8201 - accuracy: 0.7540\n",
      "Epoch 6/10\n",
      "49/49 - 0s - loss: 0.7410 - accuracy: 0.7726\n",
      "Epoch 7/10\n",
      "49/49 - 0s - loss: 0.6825 - accuracy: 0.7871\n",
      "Epoch 8/10\n",
      "49/49 - 0s - loss: 0.6338 - accuracy: 0.7964\n",
      "Epoch 9/10\n",
      "49/49 - 0s - loss: 0.5965 - accuracy: 0.8078\n",
      "Epoch 10/10\n",
      "49/49 - 0s - loss: 0.5588 - accuracy: 0.8175\n"
     ]
    }
   ],
   "source": [
    "aa = model.fit(X_train,y_train, epochs=10,batch_size=1000,verbose=2)"
   ]
  },
  {
   "cell_type": "code",
   "execution_count": 30,
   "metadata": {},
   "outputs": [
    {
     "data": {
      "text/plain": [
       "[<matplotlib.lines.Line2D at 0x19494e84d88>]"
      ]
     },
     "execution_count": 30,
     "metadata": {},
     "output_type": "execute_result"
    },
    {
     "data": {
      "image/png": "[encoded data removed]",
      "text/plain": [
       "<Figure size 432x288 with 1 Axes>"
      ]
     },
     "metadata": {
      "needs_background": "light"
     },
     "output_type": "display_data"
    }
   ],
   "source": [
    "plt.plot(aa.history['accuracy'])"
   ]
  },
  {
   "cell_type": "code",
   "execution_count": 31,
   "metadata": {},
   "outputs": [
    {
     "name": "stdout",
     "output_type": "stream",
     "text": [
      "657/657 [==============================] - 1s 2ms/step - loss: 0.6309 - accuracy: 0.8025\n",
      "0.6309176087379456\n",
      "0.802476167678833\n"
     ]
    }
   ],
   "source": [
    "loss, acc = model.evaluate(X_test,y_test)\n",
    "print(loss)\n",
    "print(acc)"
   ]
  },
  {
   "cell_type": "code",
   "execution_count": 32,
   "metadata": {},
   "outputs": [],
   "source": [
    "y_pred=model.predict_classes(X_test)"
   ]
  },
  {
   "cell_type": "code",
   "execution_count": 33,
   "metadata": {},
   "outputs": [
    {
     "data": {
      "text/plain": [
       "array([6, 2, 7], dtype=int64)"
      ]
     },
     "execution_count": 33,
     "metadata": {},
     "output_type": "execute_result"
    }
   ],
   "source": [
    "y_pred[0:3]"
   ]
  },
  {
   "cell_type": "code",
   "execution_count": 34,
   "metadata": {},
   "outputs": [],
   "source": [
    "y_class=np.argmax(y_test,axis=1)"
   ]
  },
  {
   "cell_type": "code",
   "execution_count": 35,
   "metadata": {
    "scrolled": true
   },
   "outputs": [
    {
     "name": "stdout",
     "output_type": "stream",
     "text": [
      "[[1989    1    0    1    2   56    2   11    3   11]\n",
      " [   1 2268   20   11    0   63    1    2   23    1]\n",
      " [   6    3 1916    9   18   86    9   19   56    2]\n",
      " [  20   33  228 1564    2  168    0   47   94    9]\n",
      " [   3    2    3    0 1858   62   11   14   23   87]\n",
      " [  67   12   34   20   10 1594   13   12  140   21]\n",
      " [  12    4    5    0    9  100 1815    1   42   11]\n",
      " [  18    4   37   18   20   49    6 1918   31   55]\n",
      " [  26   19   60    8    9 1716    4    4  191   11]\n",
      " [  50    4    0    4  103  105    1   41    9 1739]]\n"
     ]
    }
   ],
   "source": [
    "from sklearn.metrics import confusion_matrix\n",
    "print(confusion_matrix(y_class,y_pred))"
   ]
  }
 ],
 "metadata": {
  "kernelspec": {
   "display_name": "Python 3",
   "language": "python",
   "name": "python3"
  },
  "language_info": {
   "codemirror_mode": {
    "name": "ipython",
    "version": 3
   },
   "file_extension": ".py",
   "mimetype": "text/x-python",
   "name": "python",
   "nbconvert_exporter": "python",
   "pygments_lexer": "ipython3",
   "version": "3.7.4"
  }
 },
 "nbformat": 4,
 "nbformat_minor": 2
}
